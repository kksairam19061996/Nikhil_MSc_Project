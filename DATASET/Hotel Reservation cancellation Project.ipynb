{
 "cells": [
  {
   "cell_type": "markdown",
   "id": "938ae129",
   "metadata": {},
   "source": [
    "**Project Title:**<br>\n",
    "Prediction of hotel reservation cancellation of a customer with reservation details using Machine Learning."
   ]
  },
  {
   "cell_type": "markdown",
   "id": "7a951126",
   "metadata": {},
   "source": [
    "**Dataset Link:**\n",
    "https://www.kaggle.com/datasets/ahsan81/hotel-reservations-classification-dataset"
   ]
  },
  {
   "cell_type": "markdown",
   "id": "9b0f127f",
   "metadata": {},
   "source": [
    "**About this file**\n",
    "The file contains the different attributes of customers' reservation details. The detailed data dictionary is given below.\n",
    "<br><br>\n",
    "## Data Columns Description\n",
    "<br>\n",
    "\n",
    "### Independant Variables\n",
    "\n",
    "**Booking_ID**: unique identifier of each booking<br>\n",
    "**no_of_adults**: Number of adults<br>\n",
    "**no_of_children**: Number of Children<br>\n",
    "**no_of_weekend_nights**: Number of weekend nights (Saturday or Sunday) the guest stayed or booked to stay at the hotel<br>\n",
    "**no_of_week_nights:** Number of week nights (Monday to Friday) the guest stayed or booked to stay at the hotel<br>\n",
    "**type_of_meal_plan:** Type of meal plan booked by the customer:<br>\n",
    "**required_car_parking_space:** Does the customer require a car parking space? (0 - No, 1- Yes)<br>\n",
    "**room_type_reserved:** Type of room reserved by the customer. The values are ciphered (encoded) by INN Hotels.<br>\n",
    "**lead_time:** Number of days between the date of booking and the arrival date<br>\n",
    "**arrival_year:** Year of arrival date<br>\n",
    "**arrival_month:** Month of arrival date<br>\n",
    "**arrival_date:** Date of the month<br>\n",
    "**market_segment_type:** Market segment designation.<br>\n",
    "**repeated_guest:** Is the customer a repeated guest? (0 - No, 1- Yes)<br>\n",
    "**no_of_previous_cancellations:** Number of previous bookings that were canceled by the customer prior to the current booking<br>\n",
    "**no_of_previous_bookings_not_canceled:** Number of previous bookings not canceled by the customer prior to the current booking<br>\n",
    "**avg_price_per_room:** Average price per day of the reservation; prices of the rooms are dynamic. (in euros)<br>\n",
    "**no_of_special_requests:** Total number of special requests made by the customer (e.g. high floor, view from the room, etc)<br>\n",
    "\n",
    "\n",
    "### Dependant Variables\n",
    "\n",
    "**booking_status:** Flag indicating if the booking was canceled or not.<br>\n",
    "\n",
    "### Aim of the project:\n",
    "This project aims to identify the reasons behind the cancellations of hotel reservations and develop machine-learning algorithms on oversampled and undersampled data to predict the customer who might cancel the reservation based on the customer details provided using the machine learning with best performance.\n",
    "<br>\n",
    "### Research question\n",
    "\n",
    "1) What are the columns not important for analysis and why they dropped from the dataset ?<br>\n",
    "2) What is one hot encoding and why it is crucial for analysing this dataset ?<br>\n",
    "3) What are the classification algorithms considered and which algorithm has given the best performance on comparing Under-Sampled and Over-Sampled Data?<br>\n",
    "4) Is the average price change and lead time responsible for the customer cancelling hotel reservation ?<br>\n",
    "\n",
    "### Hypothesis\n",
    "\n",
    "**Hypothesis:** will over-sampled data help achieve better performance than under-sampled data on classification algorithms?<br>\n",
    "\n",
    "**Null Hypothesis:** There is no significant difference in the performance of classification algorithms trained on over-sampled data and under-sampled data.<br>\n",
    "\n",
    "**Alternative Hypothesis:** Classification algorithms trained on over-sampled data will have better performance than classification algorithms trained on under-sampled data.\n"
   ]
  },
  {
   "cell_type": "code",
   "execution_count": 1,
   "id": "281d1e82",
   "metadata": {},
   "outputs": [],
   "source": [
    "import pandas as pd #Pandas library, which deals with dataframework and analysis\n",
    "\n",
    "import numpy as np #NumPy Library, this is used to deal with numbers and calculations.\n",
    "\n",
    "import matplotlib.pyplot as plt # this is visualization library used for plotting graphs of the data.\n",
    "\n",
    "import seaborn as sns # this is also a visualization library for plotting the graphs\n",
    "\n",
    "from sklearn.preprocessing import OneHotEncoder #OneHotEncode is a function and a technique to convert the object..\n",
    "#..data type categories to numerical categorical columns for machine understanding.\n",
    "\n",
    "from sklearn.model_selection import train_test_split # importing train_test_split function from model selection module in the sklearn library.\n",
    "\n",
    "from imblearn.over_sampling import SMOTE #SMOTE is oversampling technique in imblearn library to deal with imbalanced data.\n",
    "\n",
    "from sklearn.preprocessing import StandardScaler # importing StandardScaler function from preprocessing module in the sklearn library.\n",
    "\n",
    "from sklearn.model_selection import GridSearchCV #GridSearchCV function is used for cross validation of the multiple parameters...\n",
    "#...for finding the best parameters for a machine learning algorithms.\n",
    "\n",
    "# Machine Learning Algorithms Used for Experimentation in This Project.\n",
    "from sklearn.linear_model import LogisticRegression\n",
    "from sklearn.neighbors import KNeighborsClassifier\n",
    "from sklearn.tree import DecisionTreeClassifier # DecisionTreeClassifier is a Machine Learning algorithm function.\n",
    "from sklearn.ensemble import RandomForestClassifier # RandomForestClassifier is a Machine Learning algorithm function in...\n",
    "#...ensemble module of sklearn library.\n",
    "\n",
    "\n",
    "from sklearn.metrics import accuracy_score, confusion_matrix #metrics is module in the sklearn library which consists of\n",
    "# performance metrics like accuracy score, confusion matrix etc.,\n",
    "\n",
    "import warnings\n",
    "warnings.filterwarnings('ignore')"
   ]
  },
  {
   "cell_type": "code",
   "execution_count": 2,
   "id": "c139126f",
   "metadata": {},
   "outputs": [
    {
     "data": {
      "text/html": [
       "<div>\n",
       "<style scoped>\n",
       "    .dataframe tbody tr th:only-of-type {\n",
       "        vertical-align: middle;\n",
       "    }\n",
       "\n",
       "    .dataframe tbody tr th {\n",
       "        vertical-align: top;\n",
       "    }\n",
       "\n",
       "    .dataframe thead th {\n",
       "        text-align: right;\n",
       "    }\n",
       "</style>\n",
       "<table border=\"1\" class=\"dataframe\">\n",
       "  <thead>\n",
       "    <tr style=\"text-align: right;\">\n",
       "      <th></th>\n",
       "      <th>Booking_ID</th>\n",
       "      <th>no_of_adults</th>\n",
       "      <th>no_of_children</th>\n",
       "      <th>no_of_weekend_nights</th>\n",
       "      <th>no_of_week_nights</th>\n",
       "      <th>type_of_meal_plan</th>\n",
       "      <th>required_car_parking_space</th>\n",
       "      <th>room_type_reserved</th>\n",
       "      <th>lead_time</th>\n",
       "      <th>arrival_year</th>\n",
       "      <th>arrival_month</th>\n",
       "      <th>arrival_date</th>\n",
       "      <th>market_segment_type</th>\n",
       "      <th>repeated_guest</th>\n",
       "      <th>no_of_previous_cancellations</th>\n",
       "      <th>no_of_previous_bookings_not_canceled</th>\n",
       "      <th>avg_price_per_room</th>\n",
       "      <th>no_of_special_requests</th>\n",
       "      <th>booking_status</th>\n",
       "    </tr>\n",
       "  </thead>\n",
       "  <tbody>\n",
       "    <tr>\n",
       "      <th>0</th>\n",
       "      <td>INN00001</td>\n",
       "      <td>2</td>\n",
       "      <td>0</td>\n",
       "      <td>1</td>\n",
       "      <td>2</td>\n",
       "      <td>Meal Plan 1</td>\n",
       "      <td>0</td>\n",
       "      <td>Room_Type 1</td>\n",
       "      <td>224</td>\n",
       "      <td>2017</td>\n",
       "      <td>10</td>\n",
       "      <td>2</td>\n",
       "      <td>Offline</td>\n",
       "      <td>0</td>\n",
       "      <td>0</td>\n",
       "      <td>0</td>\n",
       "      <td>65.00</td>\n",
       "      <td>0</td>\n",
       "      <td>Not_Canceled</td>\n",
       "    </tr>\n",
       "    <tr>\n",
       "      <th>1</th>\n",
       "      <td>INN00002</td>\n",
       "      <td>2</td>\n",
       "      <td>0</td>\n",
       "      <td>2</td>\n",
       "      <td>3</td>\n",
       "      <td>Not Selected</td>\n",
       "      <td>0</td>\n",
       "      <td>Room_Type 1</td>\n",
       "      <td>5</td>\n",
       "      <td>2018</td>\n",
       "      <td>11</td>\n",
       "      <td>6</td>\n",
       "      <td>Online</td>\n",
       "      <td>0</td>\n",
       "      <td>0</td>\n",
       "      <td>0</td>\n",
       "      <td>106.68</td>\n",
       "      <td>1</td>\n",
       "      <td>Not_Canceled</td>\n",
       "    </tr>\n",
       "    <tr>\n",
       "      <th>2</th>\n",
       "      <td>INN00003</td>\n",
       "      <td>1</td>\n",
       "      <td>0</td>\n",
       "      <td>2</td>\n",
       "      <td>1</td>\n",
       "      <td>Meal Plan 1</td>\n",
       "      <td>0</td>\n",
       "      <td>Room_Type 1</td>\n",
       "      <td>1</td>\n",
       "      <td>2018</td>\n",
       "      <td>2</td>\n",
       "      <td>28</td>\n",
       "      <td>Online</td>\n",
       "      <td>0</td>\n",
       "      <td>0</td>\n",
       "      <td>0</td>\n",
       "      <td>60.00</td>\n",
       "      <td>0</td>\n",
       "      <td>Canceled</td>\n",
       "    </tr>\n",
       "    <tr>\n",
       "      <th>3</th>\n",
       "      <td>INN00004</td>\n",
       "      <td>2</td>\n",
       "      <td>0</td>\n",
       "      <td>0</td>\n",
       "      <td>2</td>\n",
       "      <td>Meal Plan 1</td>\n",
       "      <td>0</td>\n",
       "      <td>Room_Type 1</td>\n",
       "      <td>211</td>\n",
       "      <td>2018</td>\n",
       "      <td>5</td>\n",
       "      <td>20</td>\n",
       "      <td>Online</td>\n",
       "      <td>0</td>\n",
       "      <td>0</td>\n",
       "      <td>0</td>\n",
       "      <td>100.00</td>\n",
       "      <td>0</td>\n",
       "      <td>Canceled</td>\n",
       "    </tr>\n",
       "    <tr>\n",
       "      <th>4</th>\n",
       "      <td>INN00005</td>\n",
       "      <td>2</td>\n",
       "      <td>0</td>\n",
       "      <td>1</td>\n",
       "      <td>1</td>\n",
       "      <td>Not Selected</td>\n",
       "      <td>0</td>\n",
       "      <td>Room_Type 1</td>\n",
       "      <td>48</td>\n",
       "      <td>2018</td>\n",
       "      <td>4</td>\n",
       "      <td>11</td>\n",
       "      <td>Online</td>\n",
       "      <td>0</td>\n",
       "      <td>0</td>\n",
       "      <td>0</td>\n",
       "      <td>94.50</td>\n",
       "      <td>0</td>\n",
       "      <td>Canceled</td>\n",
       "    </tr>\n",
       "  </tbody>\n",
       "</table>\n",
       "</div>"
      ],
      "text/plain": [
       "  Booking_ID  no_of_adults  no_of_children  no_of_weekend_nights  \\\n",
       "0   INN00001             2               0                     1   \n",
       "1   INN00002             2               0                     2   \n",
       "2   INN00003             1               0                     2   \n",
       "3   INN00004             2               0                     0   \n",
       "4   INN00005             2               0                     1   \n",
       "\n",
       "   no_of_week_nights type_of_meal_plan  required_car_parking_space  \\\n",
       "0                  2       Meal Plan 1                           0   \n",
       "1                  3      Not Selected                           0   \n",
       "2                  1       Meal Plan 1                           0   \n",
       "3                  2       Meal Plan 1                           0   \n",
       "4                  1      Not Selected                           0   \n",
       "\n",
       "  room_type_reserved  lead_time  arrival_year  arrival_month  arrival_date  \\\n",
       "0        Room_Type 1        224          2017             10             2   \n",
       "1        Room_Type 1          5          2018             11             6   \n",
       "2        Room_Type 1          1          2018              2            28   \n",
       "3        Room_Type 1        211          2018              5            20   \n",
       "4        Room_Type 1         48          2018              4            11   \n",
       "\n",
       "  market_segment_type  repeated_guest  no_of_previous_cancellations  \\\n",
       "0             Offline               0                             0   \n",
       "1              Online               0                             0   \n",
       "2              Online               0                             0   \n",
       "3              Online               0                             0   \n",
       "4              Online               0                             0   \n",
       "\n",
       "   no_of_previous_bookings_not_canceled  avg_price_per_room  \\\n",
       "0                                     0               65.00   \n",
       "1                                     0              106.68   \n",
       "2                                     0               60.00   \n",
       "3                                     0              100.00   \n",
       "4                                     0               94.50   \n",
       "\n",
       "   no_of_special_requests booking_status  \n",
       "0                       0   Not_Canceled  \n",
       "1                       1   Not_Canceled  \n",
       "2                       0       Canceled  \n",
       "3                       0       Canceled  \n",
       "4                       0       Canceled  "
      ]
     },
     "execution_count": 2,
     "metadata": {},
     "output_type": "execute_result"
    }
   ],
   "source": [
    "d = pd.read_csv(\"Hotel Reservations.csv\") #Loading the CSV Dataset using read_csv function in the pandas library\n",
    "d.head() # head() displays top 5 rows in dataframe."
   ]
  },
  {
   "cell_type": "code",
   "execution_count": 3,
   "id": "278b7755",
   "metadata": {},
   "outputs": [
    {
     "name": "stdout",
     "output_type": "stream",
     "text": [
      "<class 'pandas.core.frame.DataFrame'>\n",
      "RangeIndex: 36275 entries, 0 to 36274\n",
      "Data columns (total 19 columns):\n",
      " #   Column                                Non-Null Count  Dtype  \n",
      "---  ------                                --------------  -----  \n",
      " 0   Booking_ID                            36275 non-null  object \n",
      " 1   no_of_adults                          36275 non-null  int64  \n",
      " 2   no_of_children                        36275 non-null  int64  \n",
      " 3   no_of_weekend_nights                  36275 non-null  int64  \n",
      " 4   no_of_week_nights                     36275 non-null  int64  \n",
      " 5   type_of_meal_plan                     36275 non-null  object \n",
      " 6   required_car_parking_space            36275 non-null  int64  \n",
      " 7   room_type_reserved                    36275 non-null  object \n",
      " 8   lead_time                             36275 non-null  int64  \n",
      " 9   arrival_year                          36275 non-null  int64  \n",
      " 10  arrival_month                         36275 non-null  int64  \n",
      " 11  arrival_date                          36275 non-null  int64  \n",
      " 12  market_segment_type                   36275 non-null  object \n",
      " 13  repeated_guest                        36275 non-null  int64  \n",
      " 14  no_of_previous_cancellations          36275 non-null  int64  \n",
      " 15  no_of_previous_bookings_not_canceled  36275 non-null  int64  \n",
      " 16  avg_price_per_room                    36275 non-null  float64\n",
      " 17  no_of_special_requests                36275 non-null  int64  \n",
      " 18  booking_status                        36275 non-null  object \n",
      "dtypes: float64(1), int64(13), object(5)\n",
      "memory usage: 5.3+ MB\n"
     ]
    }
   ],
   "source": [
    "d.info() # gives information about the columns in the data and their data types and also shows if there any any null values in\n",
    "# the column."
   ]
  },
  {
   "cell_type": "markdown",
   "id": "a2dc186b",
   "metadata": {},
   "source": [
    "## Data Preprocessing"
   ]
  },
  {
   "cell_type": "code",
   "execution_count": 4,
   "id": "f4373580",
   "metadata": {
    "scrolled": true
   },
   "outputs": [
    {
     "data": {
      "text/plain": [
       "array([False, False, False, False, False, False, False, False, False,\n",
       "       False, False, False, False, False, False, False, False, False,\n",
       "       False])"
      ]
     },
     "execution_count": 4,
     "metadata": {},
     "output_type": "execute_result"
    }
   ],
   "source": [
    "# Check the misssing data from the dataset in all the columns,\n",
    "# if there are any null values, isnull() will show that as TRUE.\n",
    "# If there are no null values, it will show false.\n",
    "d.columns.isnull()"
   ]
  },
  {
   "cell_type": "code",
   "execution_count": null,
   "id": "66833b2b",
   "metadata": {},
   "outputs": [],
   "source": []
  },
  {
   "cell_type": "markdown",
   "id": "d73f75da",
   "metadata": {},
   "source": [
    "Since there are no null values in the dataset for 36275 rows across all the 19 columns, data is full.<br>\n",
    "\n",
    "### Remove UnWanted Columns\n",
    "\n",
    "Lets Understand the data column wise, to remove unwanted data.<br>\n"
   ]
  },
  {
   "cell_type": "code",
   "execution_count": 5,
   "id": "c37c7b8d",
   "metadata": {},
   "outputs": [
    {
     "data": {
      "text/plain": [
       "array(['Meal Plan 1', 'Not Selected', 'Meal Plan 2', 'Meal Plan 3'],\n",
       "      dtype=object)"
      ]
     },
     "execution_count": 5,
     "metadata": {},
     "output_type": "execute_result"
    }
   ],
   "source": [
    "d[\"type_of_meal_plan\"].unique() #unique() function gives all the unique values in column without any duplicates."
   ]
  },
  {
   "cell_type": "code",
   "execution_count": 6,
   "id": "ba74f656",
   "metadata": {},
   "outputs": [
    {
     "data": {
      "text/plain": [
       "array(['Room_Type 1', 'Room_Type 4', 'Room_Type 2', 'Room_Type 6',\n",
       "       'Room_Type 5', 'Room_Type 7', 'Room_Type 3'], dtype=object)"
      ]
     },
     "execution_count": 6,
     "metadata": {},
     "output_type": "execute_result"
    }
   ],
   "source": [
    "d[\"room_type_reserved\"].unique()"
   ]
  },
  {
   "cell_type": "code",
   "execution_count": 7,
   "id": "4963f44c",
   "metadata": {},
   "outputs": [
    {
     "data": {
      "text/plain": [
       "array([2017, 2018], dtype=int64)"
      ]
     },
     "execution_count": 7,
     "metadata": {},
     "output_type": "execute_result"
    }
   ],
   "source": [
    "d[\"arrival_year\"].unique()"
   ]
  },
  {
   "cell_type": "code",
   "execution_count": 8,
   "id": "a79a5c2f",
   "metadata": {},
   "outputs": [
    {
     "data": {
      "text/plain": [
       "array(['Offline', 'Online', 'Corporate', 'Aviation', 'Complementary'],\n",
       "      dtype=object)"
      ]
     },
     "execution_count": 8,
     "metadata": {},
     "output_type": "execute_result"
    }
   ],
   "source": [
    "d[\"market_segment_type\"].unique()"
   ]
  },
  {
   "cell_type": "markdown",
   "id": "3cc9a05f",
   "metadata": {},
   "source": [
    "column **Booking_ID** is not needed for analysis as it conists of unique id data, which is not useful for observing the patterns. Hence it can be removed from the data.<br><br>\n",
    "\n",
    "column **type_of_meal_plan** is also not needed as its not relatable for reservation cancellation.<br>\n",
    "\n",
    "<br>And also **room_type_reserved** has no description for its room types, but seems like its relatable to the customer reservation cancellation. It can be assumed like customer has cancelled its current room type from this hotel as he might have got the same room type with cheaper price, this can be the possible scenario. so we can analyze this by converting 7 room types using one_hot encoding as there is no information provided for its types.<br><br>\n",
    "\n",
    "column **market_segment_type** is easily understandable from its values as it says \"How the customer booked the room in Hotel\",\n",
    "wether its through offline booking at hotel, booked through online or corporate has booked room for them for meetings or any other reason, Aviation offers for pilots, or any other complimentary."
   ]
  },
  {
   "cell_type": "code",
   "execution_count": 9,
   "id": "6e442944",
   "metadata": {
    "scrolled": false
   },
   "outputs": [
    {
     "data": {
      "text/html": [
       "<div>\n",
       "<style scoped>\n",
       "    .dataframe tbody tr th:only-of-type {\n",
       "        vertical-align: middle;\n",
       "    }\n",
       "\n",
       "    .dataframe tbody tr th {\n",
       "        vertical-align: top;\n",
       "    }\n",
       "\n",
       "    .dataframe thead th {\n",
       "        text-align: right;\n",
       "    }\n",
       "</style>\n",
       "<table border=\"1\" class=\"dataframe\">\n",
       "  <thead>\n",
       "    <tr style=\"text-align: right;\">\n",
       "      <th></th>\n",
       "      <th>no_of_adults</th>\n",
       "      <th>no_of_children</th>\n",
       "      <th>no_of_weekend_nights</th>\n",
       "      <th>no_of_week_nights</th>\n",
       "      <th>required_car_parking_space</th>\n",
       "      <th>room_type_reserved</th>\n",
       "      <th>lead_time</th>\n",
       "      <th>arrival_year</th>\n",
       "      <th>arrival_month</th>\n",
       "      <th>arrival_date</th>\n",
       "      <th>market_segment_type</th>\n",
       "      <th>repeated_guest</th>\n",
       "      <th>no_of_previous_cancellations</th>\n",
       "      <th>no_of_previous_bookings_not_canceled</th>\n",
       "      <th>avg_price_per_room</th>\n",
       "      <th>no_of_special_requests</th>\n",
       "      <th>booking_status</th>\n",
       "    </tr>\n",
       "  </thead>\n",
       "  <tbody>\n",
       "    <tr>\n",
       "      <th>0</th>\n",
       "      <td>2</td>\n",
       "      <td>0</td>\n",
       "      <td>1</td>\n",
       "      <td>2</td>\n",
       "      <td>0</td>\n",
       "      <td>Room_Type 1</td>\n",
       "      <td>224</td>\n",
       "      <td>2017</td>\n",
       "      <td>10</td>\n",
       "      <td>2</td>\n",
       "      <td>Offline</td>\n",
       "      <td>0</td>\n",
       "      <td>0</td>\n",
       "      <td>0</td>\n",
       "      <td>65.00</td>\n",
       "      <td>0</td>\n",
       "      <td>Not_Canceled</td>\n",
       "    </tr>\n",
       "    <tr>\n",
       "      <th>1</th>\n",
       "      <td>2</td>\n",
       "      <td>0</td>\n",
       "      <td>2</td>\n",
       "      <td>3</td>\n",
       "      <td>0</td>\n",
       "      <td>Room_Type 1</td>\n",
       "      <td>5</td>\n",
       "      <td>2018</td>\n",
       "      <td>11</td>\n",
       "      <td>6</td>\n",
       "      <td>Online</td>\n",
       "      <td>0</td>\n",
       "      <td>0</td>\n",
       "      <td>0</td>\n",
       "      <td>106.68</td>\n",
       "      <td>1</td>\n",
       "      <td>Not_Canceled</td>\n",
       "    </tr>\n",
       "    <tr>\n",
       "      <th>2</th>\n",
       "      <td>1</td>\n",
       "      <td>0</td>\n",
       "      <td>2</td>\n",
       "      <td>1</td>\n",
       "      <td>0</td>\n",
       "      <td>Room_Type 1</td>\n",
       "      <td>1</td>\n",
       "      <td>2018</td>\n",
       "      <td>2</td>\n",
       "      <td>28</td>\n",
       "      <td>Online</td>\n",
       "      <td>0</td>\n",
       "      <td>0</td>\n",
       "      <td>0</td>\n",
       "      <td>60.00</td>\n",
       "      <td>0</td>\n",
       "      <td>Canceled</td>\n",
       "    </tr>\n",
       "    <tr>\n",
       "      <th>3</th>\n",
       "      <td>2</td>\n",
       "      <td>0</td>\n",
       "      <td>0</td>\n",
       "      <td>2</td>\n",
       "      <td>0</td>\n",
       "      <td>Room_Type 1</td>\n",
       "      <td>211</td>\n",
       "      <td>2018</td>\n",
       "      <td>5</td>\n",
       "      <td>20</td>\n",
       "      <td>Online</td>\n",
       "      <td>0</td>\n",
       "      <td>0</td>\n",
       "      <td>0</td>\n",
       "      <td>100.00</td>\n",
       "      <td>0</td>\n",
       "      <td>Canceled</td>\n",
       "    </tr>\n",
       "    <tr>\n",
       "      <th>4</th>\n",
       "      <td>2</td>\n",
       "      <td>0</td>\n",
       "      <td>1</td>\n",
       "      <td>1</td>\n",
       "      <td>0</td>\n",
       "      <td>Room_Type 1</td>\n",
       "      <td>48</td>\n",
       "      <td>2018</td>\n",
       "      <td>4</td>\n",
       "      <td>11</td>\n",
       "      <td>Online</td>\n",
       "      <td>0</td>\n",
       "      <td>0</td>\n",
       "      <td>0</td>\n",
       "      <td>94.50</td>\n",
       "      <td>0</td>\n",
       "      <td>Canceled</td>\n",
       "    </tr>\n",
       "    <tr>\n",
       "      <th>...</th>\n",
       "      <td>...</td>\n",
       "      <td>...</td>\n",
       "      <td>...</td>\n",
       "      <td>...</td>\n",
       "      <td>...</td>\n",
       "      <td>...</td>\n",
       "      <td>...</td>\n",
       "      <td>...</td>\n",
       "      <td>...</td>\n",
       "      <td>...</td>\n",
       "      <td>...</td>\n",
       "      <td>...</td>\n",
       "      <td>...</td>\n",
       "      <td>...</td>\n",
       "      <td>...</td>\n",
       "      <td>...</td>\n",
       "      <td>...</td>\n",
       "    </tr>\n",
       "    <tr>\n",
       "      <th>36270</th>\n",
       "      <td>3</td>\n",
       "      <td>0</td>\n",
       "      <td>2</td>\n",
       "      <td>6</td>\n",
       "      <td>0</td>\n",
       "      <td>Room_Type 4</td>\n",
       "      <td>85</td>\n",
       "      <td>2018</td>\n",
       "      <td>8</td>\n",
       "      <td>3</td>\n",
       "      <td>Online</td>\n",
       "      <td>0</td>\n",
       "      <td>0</td>\n",
       "      <td>0</td>\n",
       "      <td>167.80</td>\n",
       "      <td>1</td>\n",
       "      <td>Not_Canceled</td>\n",
       "    </tr>\n",
       "    <tr>\n",
       "      <th>36271</th>\n",
       "      <td>2</td>\n",
       "      <td>0</td>\n",
       "      <td>1</td>\n",
       "      <td>3</td>\n",
       "      <td>0</td>\n",
       "      <td>Room_Type 1</td>\n",
       "      <td>228</td>\n",
       "      <td>2018</td>\n",
       "      <td>10</td>\n",
       "      <td>17</td>\n",
       "      <td>Online</td>\n",
       "      <td>0</td>\n",
       "      <td>0</td>\n",
       "      <td>0</td>\n",
       "      <td>90.95</td>\n",
       "      <td>2</td>\n",
       "      <td>Canceled</td>\n",
       "    </tr>\n",
       "    <tr>\n",
       "      <th>36272</th>\n",
       "      <td>2</td>\n",
       "      <td>0</td>\n",
       "      <td>2</td>\n",
       "      <td>6</td>\n",
       "      <td>0</td>\n",
       "      <td>Room_Type 1</td>\n",
       "      <td>148</td>\n",
       "      <td>2018</td>\n",
       "      <td>7</td>\n",
       "      <td>1</td>\n",
       "      <td>Online</td>\n",
       "      <td>0</td>\n",
       "      <td>0</td>\n",
       "      <td>0</td>\n",
       "      <td>98.39</td>\n",
       "      <td>2</td>\n",
       "      <td>Not_Canceled</td>\n",
       "    </tr>\n",
       "    <tr>\n",
       "      <th>36273</th>\n",
       "      <td>2</td>\n",
       "      <td>0</td>\n",
       "      <td>0</td>\n",
       "      <td>3</td>\n",
       "      <td>0</td>\n",
       "      <td>Room_Type 1</td>\n",
       "      <td>63</td>\n",
       "      <td>2018</td>\n",
       "      <td>4</td>\n",
       "      <td>21</td>\n",
       "      <td>Online</td>\n",
       "      <td>0</td>\n",
       "      <td>0</td>\n",
       "      <td>0</td>\n",
       "      <td>94.50</td>\n",
       "      <td>0</td>\n",
       "      <td>Canceled</td>\n",
       "    </tr>\n",
       "    <tr>\n",
       "      <th>36274</th>\n",
       "      <td>2</td>\n",
       "      <td>0</td>\n",
       "      <td>1</td>\n",
       "      <td>2</td>\n",
       "      <td>0</td>\n",
       "      <td>Room_Type 1</td>\n",
       "      <td>207</td>\n",
       "      <td>2018</td>\n",
       "      <td>12</td>\n",
       "      <td>30</td>\n",
       "      <td>Offline</td>\n",
       "      <td>0</td>\n",
       "      <td>0</td>\n",
       "      <td>0</td>\n",
       "      <td>161.67</td>\n",
       "      <td>0</td>\n",
       "      <td>Not_Canceled</td>\n",
       "    </tr>\n",
       "  </tbody>\n",
       "</table>\n",
       "<p>36275 rows × 17 columns</p>\n",
       "</div>"
      ],
      "text/plain": [
       "       no_of_adults  no_of_children  no_of_weekend_nights  no_of_week_nights  \\\n",
       "0                 2               0                     1                  2   \n",
       "1                 2               0                     2                  3   \n",
       "2                 1               0                     2                  1   \n",
       "3                 2               0                     0                  2   \n",
       "4                 2               0                     1                  1   \n",
       "...             ...             ...                   ...                ...   \n",
       "36270             3               0                     2                  6   \n",
       "36271             2               0                     1                  3   \n",
       "36272             2               0                     2                  6   \n",
       "36273             2               0                     0                  3   \n",
       "36274             2               0                     1                  2   \n",
       "\n",
       "       required_car_parking_space room_type_reserved  lead_time  arrival_year  \\\n",
       "0                               0        Room_Type 1        224          2017   \n",
       "1                               0        Room_Type 1          5          2018   \n",
       "2                               0        Room_Type 1          1          2018   \n",
       "3                               0        Room_Type 1        211          2018   \n",
       "4                               0        Room_Type 1         48          2018   \n",
       "...                           ...                ...        ...           ...   \n",
       "36270                           0        Room_Type 4         85          2018   \n",
       "36271                           0        Room_Type 1        228          2018   \n",
       "36272                           0        Room_Type 1        148          2018   \n",
       "36273                           0        Room_Type 1         63          2018   \n",
       "36274                           0        Room_Type 1        207          2018   \n",
       "\n",
       "       arrival_month  arrival_date market_segment_type  repeated_guest  \\\n",
       "0                 10             2             Offline               0   \n",
       "1                 11             6              Online               0   \n",
       "2                  2            28              Online               0   \n",
       "3                  5            20              Online               0   \n",
       "4                  4            11              Online               0   \n",
       "...              ...           ...                 ...             ...   \n",
       "36270              8             3              Online               0   \n",
       "36271             10            17              Online               0   \n",
       "36272              7             1              Online               0   \n",
       "36273              4            21              Online               0   \n",
       "36274             12            30             Offline               0   \n",
       "\n",
       "       no_of_previous_cancellations  no_of_previous_bookings_not_canceled  \\\n",
       "0                                 0                                     0   \n",
       "1                                 0                                     0   \n",
       "2                                 0                                     0   \n",
       "3                                 0                                     0   \n",
       "4                                 0                                     0   \n",
       "...                             ...                                   ...   \n",
       "36270                             0                                     0   \n",
       "36271                             0                                     0   \n",
       "36272                             0                                     0   \n",
       "36273                             0                                     0   \n",
       "36274                             0                                     0   \n",
       "\n",
       "       avg_price_per_room  no_of_special_requests booking_status  \n",
       "0                   65.00                       0   Not_Canceled  \n",
       "1                  106.68                       1   Not_Canceled  \n",
       "2                   60.00                       0       Canceled  \n",
       "3                  100.00                       0       Canceled  \n",
       "4                   94.50                       0       Canceled  \n",
       "...                   ...                     ...            ...  \n",
       "36270              167.80                       1   Not_Canceled  \n",
       "36271               90.95                       2       Canceled  \n",
       "36272               98.39                       2   Not_Canceled  \n",
       "36273               94.50                       0       Canceled  \n",
       "36274              161.67                       0   Not_Canceled  \n",
       "\n",
       "[36275 rows x 17 columns]"
      ]
     },
     "execution_count": 9,
     "metadata": {},
     "output_type": "execute_result"
    }
   ],
   "source": [
    "# Removing the unwanted columns from the dataset using drop function.\n",
    "d = d.drop(columns = [\"Booking_ID\",\"type_of_meal_plan\"],axis=1) \n",
    "#Booking_ID is removed using drop function specifying axis = 1 which means from columns.\n",
    "d"
   ]
  },
  {
   "cell_type": "markdown",
   "id": "d1ce1089",
   "metadata": {},
   "source": [
    "Previously it was 19 columns in the original dataset, after dropping the unwanted columns (\"Booking_ID\", \"type_of_meal_plan\") now its 17 columns.\n",
    "\n",
    "For the Machine to understand the data, every thing should be in numeric values. object values can't be understood by the machine. In order to make object type categorical data in a machine understandable format, we need to perfrom \"One-Hot Encoding\"."
   ]
  },
  {
   "cell_type": "markdown",
   "id": "8b0827ca",
   "metadata": {},
   "source": [
    "#### One-Hot Encoding\n",
    "\n",
    "One-Hot encoding is a technique used to represent categorical data as numerical values in a machine learning model. This is done by creating a new binary feature for each possible category and assigning a value of 1 to the feature of each sample that corresponds to its original category. For example, if a categorical feature has three possible categories, then one-hot encoding would create three new binary features, one for each category. The feature for the category that the sample belongs to would be assigned a value of 1, and the features for the other two categories would be assigned a value of 0.<br>\n",
    "\n",
    "One-Hot encoding is a common way to represent categorical data in machine learning models because it allows the model to learn the relationships between different categories. For example, if a model is trying to predict whether a customer will buy a product, it is important for the model to know that the customer's gender is not the same as their age. One-hot encoding allows the model to learn this distinction by creating separate features for the customer's gender and age."
   ]
  },
  {
   "cell_type": "code",
   "execution_count": 10,
   "id": "a46261ff",
   "metadata": {},
   "outputs": [
    {
     "name": "stdout",
     "output_type": "stream",
     "text": [
      "<class 'pandas.core.frame.DataFrame'>\n",
      "RangeIndex: 36275 entries, 0 to 36274\n",
      "Data columns (total 27 columns):\n",
      " #   Column                                Non-Null Count  Dtype  \n",
      "---  ------                                --------------  -----  \n",
      " 0   no_of_adults                          36275 non-null  int64  \n",
      " 1   no_of_children                        36275 non-null  int64  \n",
      " 2   no_of_weekend_nights                  36275 non-null  int64  \n",
      " 3   no_of_week_nights                     36275 non-null  int64  \n",
      " 4   required_car_parking_space            36275 non-null  int64  \n",
      " 5   lead_time                             36275 non-null  int64  \n",
      " 6   arrival_year                          36275 non-null  int64  \n",
      " 7   arrival_month                         36275 non-null  int64  \n",
      " 8   arrival_date                          36275 non-null  int64  \n",
      " 9   repeated_guest                        36275 non-null  int64  \n",
      " 10  no_of_previous_cancellations          36275 non-null  int64  \n",
      " 11  no_of_previous_bookings_not_canceled  36275 non-null  int64  \n",
      " 12  avg_price_per_room                    36275 non-null  float64\n",
      " 13  no_of_special_requests                36275 non-null  int64  \n",
      " 14  booking_status                        36275 non-null  object \n",
      " 15  room_type_reserved_Room_Type 1        36275 non-null  float64\n",
      " 16  room_type_reserved_Room_Type 2        36275 non-null  float64\n",
      " 17  room_type_reserved_Room_Type 3        36275 non-null  float64\n",
      " 18  room_type_reserved_Room_Type 4        36275 non-null  float64\n",
      " 19  room_type_reserved_Room_Type 5        36275 non-null  float64\n",
      " 20  room_type_reserved_Room_Type 6        36275 non-null  float64\n",
      " 21  room_type_reserved_Room_Type 7        36275 non-null  float64\n",
      " 22  market_segment_type_Aviation          36275 non-null  float64\n",
      " 23  market_segment_type_Complementary     36275 non-null  float64\n",
      " 24  market_segment_type_Corporate         36275 non-null  float64\n",
      " 25  market_segment_type_Offline           36275 non-null  float64\n",
      " 26  market_segment_type_Online            36275 non-null  float64\n",
      "dtypes: float64(13), int64(13), object(1)\n",
      "memory usage: 7.5+ MB\n"
     ]
    }
   ],
   "source": [
    "import pandas as pd\n",
    "from sklearn.preprocessing import OneHotEncoder\n",
    "\n",
    "# Assuming 'd' is your DataFrame with columns 'room_type_reserved' and 'market_segment_type'\n",
    "one_hot_encoder = OneHotEncoder(sparse=False, drop=None)  # Create the encoder with drop='first' to reduce multicollinearity\n",
    "\n",
    "# Fit and transform the encoder on the specified columns\n",
    "one_hot_encoded_features = one_hot_encoder.fit_transform(d[['room_type_reserved', 'market_segment_type']])\n",
    "\n",
    "# Create a DataFrame with the one-hot encoded features\n",
    "encoded_column_names = one_hot_encoder.get_feature_names_out(['room_type_reserved', 'market_segment_type'])\n",
    "data_encoded = pd.DataFrame(one_hot_encoded_features, columns=encoded_column_names)\n",
    "\n",
    "# Add the encoded DataFrame back to your original DataFrame 'd'\n",
    "data_encoded = pd.concat([d, data_encoded], axis=1)\n",
    "\n",
    "# Drop the original categorical columns if needed\n",
    "data_encoded.drop(['room_type_reserved', 'market_segment_type'], axis=1, inplace=True)\n",
    "\n",
    "# Display information about the encoded DataFrame\n",
    "data_encoded.info()\n"
   ]
  },
  {
   "cell_type": "markdown",
   "id": "6aae990e",
   "metadata": {},
   "source": [
    "Now it shows 27 columns previously it was 17 columns.\n",
    "wait....wait...what.....previously it was 17, but 12 columns has been created so 17+12 should be 29 columns, how can it be 27\n",
    "\n",
    "Observe carefully, you are encoding for two columns, one hot encoding will be applied only to the categories of the columns, hence no. of categories in each column will be converted to those many no. of columns. \n",
    "\n",
    "hence for \"room_type_reserved\" column with 7 Categories has been converted like \"Column Name + Category Name\".\n",
    "For Example: \n",
    "\n",
    "1) \"room_type_reserved\" + \"Room_Type_1\" = room_type_reserved_Room_Type_1\n",
    "2) \"room_type_reserved\" + \"Room_Type_2\" = room_type_reserved_Room_Type_2 and so on..\n",
    "3) \"market_segment_type\" + \"Aviation\" = market_segment_type_Aviation\n",
    "4) \"market_segment_type\" + \"Complementary\" = market_segment_type_Complementary"
   ]
  },
  {
   "cell_type": "code",
   "execution_count": 11,
   "id": "b0a602eb",
   "metadata": {
    "scrolled": true
   },
   "outputs": [
    {
     "data": {
      "text/html": [
       "<div>\n",
       "<style scoped>\n",
       "    .dataframe tbody tr th:only-of-type {\n",
       "        vertical-align: middle;\n",
       "    }\n",
       "\n",
       "    .dataframe tbody tr th {\n",
       "        vertical-align: top;\n",
       "    }\n",
       "\n",
       "    .dataframe thead th {\n",
       "        text-align: right;\n",
       "    }\n",
       "</style>\n",
       "<table border=\"1\" class=\"dataframe\">\n",
       "  <thead>\n",
       "    <tr style=\"text-align: right;\">\n",
       "      <th></th>\n",
       "      <th>no_of_adults</th>\n",
       "      <th>no_of_children</th>\n",
       "      <th>no_of_weekend_nights</th>\n",
       "      <th>no_of_week_nights</th>\n",
       "      <th>required_car_parking_space</th>\n",
       "      <th>lead_time</th>\n",
       "      <th>arrival_year</th>\n",
       "      <th>arrival_month</th>\n",
       "      <th>arrival_date</th>\n",
       "      <th>repeated_guest</th>\n",
       "      <th>...</th>\n",
       "      <th>room_type_reserved_Room_Type 3</th>\n",
       "      <th>room_type_reserved_Room_Type 4</th>\n",
       "      <th>room_type_reserved_Room_Type 5</th>\n",
       "      <th>room_type_reserved_Room_Type 6</th>\n",
       "      <th>room_type_reserved_Room_Type 7</th>\n",
       "      <th>market_segment_type_Aviation</th>\n",
       "      <th>market_segment_type_Complementary</th>\n",
       "      <th>market_segment_type_Corporate</th>\n",
       "      <th>market_segment_type_Offline</th>\n",
       "      <th>market_segment_type_Online</th>\n",
       "    </tr>\n",
       "  </thead>\n",
       "  <tbody>\n",
       "    <tr>\n",
       "      <th>0</th>\n",
       "      <td>2</td>\n",
       "      <td>0</td>\n",
       "      <td>1</td>\n",
       "      <td>2</td>\n",
       "      <td>0</td>\n",
       "      <td>224</td>\n",
       "      <td>2017</td>\n",
       "      <td>10</td>\n",
       "      <td>2</td>\n",
       "      <td>0</td>\n",
       "      <td>...</td>\n",
       "      <td>0.0</td>\n",
       "      <td>0.0</td>\n",
       "      <td>0.0</td>\n",
       "      <td>0.0</td>\n",
       "      <td>0.0</td>\n",
       "      <td>0.0</td>\n",
       "      <td>0.0</td>\n",
       "      <td>0.0</td>\n",
       "      <td>1.0</td>\n",
       "      <td>0.0</td>\n",
       "    </tr>\n",
       "    <tr>\n",
       "      <th>1</th>\n",
       "      <td>2</td>\n",
       "      <td>0</td>\n",
       "      <td>2</td>\n",
       "      <td>3</td>\n",
       "      <td>0</td>\n",
       "      <td>5</td>\n",
       "      <td>2018</td>\n",
       "      <td>11</td>\n",
       "      <td>6</td>\n",
       "      <td>0</td>\n",
       "      <td>...</td>\n",
       "      <td>0.0</td>\n",
       "      <td>0.0</td>\n",
       "      <td>0.0</td>\n",
       "      <td>0.0</td>\n",
       "      <td>0.0</td>\n",
       "      <td>0.0</td>\n",
       "      <td>0.0</td>\n",
       "      <td>0.0</td>\n",
       "      <td>0.0</td>\n",
       "      <td>1.0</td>\n",
       "    </tr>\n",
       "    <tr>\n",
       "      <th>2</th>\n",
       "      <td>1</td>\n",
       "      <td>0</td>\n",
       "      <td>2</td>\n",
       "      <td>1</td>\n",
       "      <td>0</td>\n",
       "      <td>1</td>\n",
       "      <td>2018</td>\n",
       "      <td>2</td>\n",
       "      <td>28</td>\n",
       "      <td>0</td>\n",
       "      <td>...</td>\n",
       "      <td>0.0</td>\n",
       "      <td>0.0</td>\n",
       "      <td>0.0</td>\n",
       "      <td>0.0</td>\n",
       "      <td>0.0</td>\n",
       "      <td>0.0</td>\n",
       "      <td>0.0</td>\n",
       "      <td>0.0</td>\n",
       "      <td>0.0</td>\n",
       "      <td>1.0</td>\n",
       "    </tr>\n",
       "    <tr>\n",
       "      <th>3</th>\n",
       "      <td>2</td>\n",
       "      <td>0</td>\n",
       "      <td>0</td>\n",
       "      <td>2</td>\n",
       "      <td>0</td>\n",
       "      <td>211</td>\n",
       "      <td>2018</td>\n",
       "      <td>5</td>\n",
       "      <td>20</td>\n",
       "      <td>0</td>\n",
       "      <td>...</td>\n",
       "      <td>0.0</td>\n",
       "      <td>0.0</td>\n",
       "      <td>0.0</td>\n",
       "      <td>0.0</td>\n",
       "      <td>0.0</td>\n",
       "      <td>0.0</td>\n",
       "      <td>0.0</td>\n",
       "      <td>0.0</td>\n",
       "      <td>0.0</td>\n",
       "      <td>1.0</td>\n",
       "    </tr>\n",
       "    <tr>\n",
       "      <th>4</th>\n",
       "      <td>2</td>\n",
       "      <td>0</td>\n",
       "      <td>1</td>\n",
       "      <td>1</td>\n",
       "      <td>0</td>\n",
       "      <td>48</td>\n",
       "      <td>2018</td>\n",
       "      <td>4</td>\n",
       "      <td>11</td>\n",
       "      <td>0</td>\n",
       "      <td>...</td>\n",
       "      <td>0.0</td>\n",
       "      <td>0.0</td>\n",
       "      <td>0.0</td>\n",
       "      <td>0.0</td>\n",
       "      <td>0.0</td>\n",
       "      <td>0.0</td>\n",
       "      <td>0.0</td>\n",
       "      <td>0.0</td>\n",
       "      <td>0.0</td>\n",
       "      <td>1.0</td>\n",
       "    </tr>\n",
       "  </tbody>\n",
       "</table>\n",
       "<p>5 rows × 27 columns</p>\n",
       "</div>"
      ],
      "text/plain": [
       "   no_of_adults  no_of_children  no_of_weekend_nights  no_of_week_nights  \\\n",
       "0             2               0                     1                  2   \n",
       "1             2               0                     2                  3   \n",
       "2             1               0                     2                  1   \n",
       "3             2               0                     0                  2   \n",
       "4             2               0                     1                  1   \n",
       "\n",
       "   required_car_parking_space  lead_time  arrival_year  arrival_month  \\\n",
       "0                           0        224          2017             10   \n",
       "1                           0          5          2018             11   \n",
       "2                           0          1          2018              2   \n",
       "3                           0        211          2018              5   \n",
       "4                           0         48          2018              4   \n",
       "\n",
       "   arrival_date  repeated_guest  ...  room_type_reserved_Room_Type 3  \\\n",
       "0             2               0  ...                             0.0   \n",
       "1             6               0  ...                             0.0   \n",
       "2            28               0  ...                             0.0   \n",
       "3            20               0  ...                             0.0   \n",
       "4            11               0  ...                             0.0   \n",
       "\n",
       "   room_type_reserved_Room_Type 4  room_type_reserved_Room_Type 5  \\\n",
       "0                             0.0                             0.0   \n",
       "1                             0.0                             0.0   \n",
       "2                             0.0                             0.0   \n",
       "3                             0.0                             0.0   \n",
       "4                             0.0                             0.0   \n",
       "\n",
       "   room_type_reserved_Room_Type 6 room_type_reserved_Room_Type 7  \\\n",
       "0                             0.0                            0.0   \n",
       "1                             0.0                            0.0   \n",
       "2                             0.0                            0.0   \n",
       "3                             0.0                            0.0   \n",
       "4                             0.0                            0.0   \n",
       "\n",
       "   market_segment_type_Aviation  market_segment_type_Complementary  \\\n",
       "0                           0.0                                0.0   \n",
       "1                           0.0                                0.0   \n",
       "2                           0.0                                0.0   \n",
       "3                           0.0                                0.0   \n",
       "4                           0.0                                0.0   \n",
       "\n",
       "   market_segment_type_Corporate  market_segment_type_Offline  \\\n",
       "0                            0.0                          1.0   \n",
       "1                            0.0                          0.0   \n",
       "2                            0.0                          0.0   \n",
       "3                            0.0                          0.0   \n",
       "4                            0.0                          0.0   \n",
       "\n",
       "   market_segment_type_Online  \n",
       "0                         0.0  \n",
       "1                         1.0  \n",
       "2                         1.0  \n",
       "3                         1.0  \n",
       "4                         1.0  \n",
       "\n",
       "[5 rows x 27 columns]"
      ]
     },
     "execution_count": 11,
     "metadata": {},
     "output_type": "execute_result"
    }
   ],
   "source": [
    "data_encoded.head()"
   ]
  },
  {
   "cell_type": "markdown",
   "id": "0db45e2d",
   "metadata": {},
   "source": [
    "Since there are 27 columns now, our dependant variable Booking_Status was stuck in the middle away from the sight. So we need to pickit up from the middle and make it available in the last column. Hence, we use the **pop()** function to cut it from the middle and paste it in the last."
   ]
  },
  {
   "cell_type": "code",
   "execution_count": 12,
   "id": "c5b2deed",
   "metadata": {},
   "outputs": [
    {
     "data": {
      "text/html": [
       "<div>\n",
       "<style scoped>\n",
       "    .dataframe tbody tr th:only-of-type {\n",
       "        vertical-align: middle;\n",
       "    }\n",
       "\n",
       "    .dataframe tbody tr th {\n",
       "        vertical-align: top;\n",
       "    }\n",
       "\n",
       "    .dataframe thead th {\n",
       "        text-align: right;\n",
       "    }\n",
       "</style>\n",
       "<table border=\"1\" class=\"dataframe\">\n",
       "  <thead>\n",
       "    <tr style=\"text-align: right;\">\n",
       "      <th></th>\n",
       "      <th>no_of_adults</th>\n",
       "      <th>no_of_children</th>\n",
       "      <th>no_of_weekend_nights</th>\n",
       "      <th>no_of_week_nights</th>\n",
       "      <th>required_car_parking_space</th>\n",
       "      <th>lead_time</th>\n",
       "      <th>arrival_year</th>\n",
       "      <th>arrival_month</th>\n",
       "      <th>arrival_date</th>\n",
       "      <th>repeated_guest</th>\n",
       "      <th>...</th>\n",
       "      <th>room_type_reserved_Room_Type 4</th>\n",
       "      <th>room_type_reserved_Room_Type 5</th>\n",
       "      <th>room_type_reserved_Room_Type 6</th>\n",
       "      <th>room_type_reserved_Room_Type 7</th>\n",
       "      <th>market_segment_type_Aviation</th>\n",
       "      <th>market_segment_type_Complementary</th>\n",
       "      <th>market_segment_type_Corporate</th>\n",
       "      <th>market_segment_type_Offline</th>\n",
       "      <th>market_segment_type_Online</th>\n",
       "      <th>booking_status</th>\n",
       "    </tr>\n",
       "  </thead>\n",
       "  <tbody>\n",
       "    <tr>\n",
       "      <th>0</th>\n",
       "      <td>2</td>\n",
       "      <td>0</td>\n",
       "      <td>1</td>\n",
       "      <td>2</td>\n",
       "      <td>0</td>\n",
       "      <td>224</td>\n",
       "      <td>2017</td>\n",
       "      <td>10</td>\n",
       "      <td>2</td>\n",
       "      <td>0</td>\n",
       "      <td>...</td>\n",
       "      <td>0.0</td>\n",
       "      <td>0.0</td>\n",
       "      <td>0.0</td>\n",
       "      <td>0.0</td>\n",
       "      <td>0.0</td>\n",
       "      <td>0.0</td>\n",
       "      <td>0.0</td>\n",
       "      <td>1.0</td>\n",
       "      <td>0.0</td>\n",
       "      <td>Not_Canceled</td>\n",
       "    </tr>\n",
       "    <tr>\n",
       "      <th>1</th>\n",
       "      <td>2</td>\n",
       "      <td>0</td>\n",
       "      <td>2</td>\n",
       "      <td>3</td>\n",
       "      <td>0</td>\n",
       "      <td>5</td>\n",
       "      <td>2018</td>\n",
       "      <td>11</td>\n",
       "      <td>6</td>\n",
       "      <td>0</td>\n",
       "      <td>...</td>\n",
       "      <td>0.0</td>\n",
       "      <td>0.0</td>\n",
       "      <td>0.0</td>\n",
       "      <td>0.0</td>\n",
       "      <td>0.0</td>\n",
       "      <td>0.0</td>\n",
       "      <td>0.0</td>\n",
       "      <td>0.0</td>\n",
       "      <td>1.0</td>\n",
       "      <td>Not_Canceled</td>\n",
       "    </tr>\n",
       "    <tr>\n",
       "      <th>2</th>\n",
       "      <td>1</td>\n",
       "      <td>0</td>\n",
       "      <td>2</td>\n",
       "      <td>1</td>\n",
       "      <td>0</td>\n",
       "      <td>1</td>\n",
       "      <td>2018</td>\n",
       "      <td>2</td>\n",
       "      <td>28</td>\n",
       "      <td>0</td>\n",
       "      <td>...</td>\n",
       "      <td>0.0</td>\n",
       "      <td>0.0</td>\n",
       "      <td>0.0</td>\n",
       "      <td>0.0</td>\n",
       "      <td>0.0</td>\n",
       "      <td>0.0</td>\n",
       "      <td>0.0</td>\n",
       "      <td>0.0</td>\n",
       "      <td>1.0</td>\n",
       "      <td>Canceled</td>\n",
       "    </tr>\n",
       "    <tr>\n",
       "      <th>3</th>\n",
       "      <td>2</td>\n",
       "      <td>0</td>\n",
       "      <td>0</td>\n",
       "      <td>2</td>\n",
       "      <td>0</td>\n",
       "      <td>211</td>\n",
       "      <td>2018</td>\n",
       "      <td>5</td>\n",
       "      <td>20</td>\n",
       "      <td>0</td>\n",
       "      <td>...</td>\n",
       "      <td>0.0</td>\n",
       "      <td>0.0</td>\n",
       "      <td>0.0</td>\n",
       "      <td>0.0</td>\n",
       "      <td>0.0</td>\n",
       "      <td>0.0</td>\n",
       "      <td>0.0</td>\n",
       "      <td>0.0</td>\n",
       "      <td>1.0</td>\n",
       "      <td>Canceled</td>\n",
       "    </tr>\n",
       "    <tr>\n",
       "      <th>4</th>\n",
       "      <td>2</td>\n",
       "      <td>0</td>\n",
       "      <td>1</td>\n",
       "      <td>1</td>\n",
       "      <td>0</td>\n",
       "      <td>48</td>\n",
       "      <td>2018</td>\n",
       "      <td>4</td>\n",
       "      <td>11</td>\n",
       "      <td>0</td>\n",
       "      <td>...</td>\n",
       "      <td>0.0</td>\n",
       "      <td>0.0</td>\n",
       "      <td>0.0</td>\n",
       "      <td>0.0</td>\n",
       "      <td>0.0</td>\n",
       "      <td>0.0</td>\n",
       "      <td>0.0</td>\n",
       "      <td>0.0</td>\n",
       "      <td>1.0</td>\n",
       "      <td>Canceled</td>\n",
       "    </tr>\n",
       "    <tr>\n",
       "      <th>...</th>\n",
       "      <td>...</td>\n",
       "      <td>...</td>\n",
       "      <td>...</td>\n",
       "      <td>...</td>\n",
       "      <td>...</td>\n",
       "      <td>...</td>\n",
       "      <td>...</td>\n",
       "      <td>...</td>\n",
       "      <td>...</td>\n",
       "      <td>...</td>\n",
       "      <td>...</td>\n",
       "      <td>...</td>\n",
       "      <td>...</td>\n",
       "      <td>...</td>\n",
       "      <td>...</td>\n",
       "      <td>...</td>\n",
       "      <td>...</td>\n",
       "      <td>...</td>\n",
       "      <td>...</td>\n",
       "      <td>...</td>\n",
       "      <td>...</td>\n",
       "    </tr>\n",
       "    <tr>\n",
       "      <th>36270</th>\n",
       "      <td>3</td>\n",
       "      <td>0</td>\n",
       "      <td>2</td>\n",
       "      <td>6</td>\n",
       "      <td>0</td>\n",
       "      <td>85</td>\n",
       "      <td>2018</td>\n",
       "      <td>8</td>\n",
       "      <td>3</td>\n",
       "      <td>0</td>\n",
       "      <td>...</td>\n",
       "      <td>1.0</td>\n",
       "      <td>0.0</td>\n",
       "      <td>0.0</td>\n",
       "      <td>0.0</td>\n",
       "      <td>0.0</td>\n",
       "      <td>0.0</td>\n",
       "      <td>0.0</td>\n",
       "      <td>0.0</td>\n",
       "      <td>1.0</td>\n",
       "      <td>Not_Canceled</td>\n",
       "    </tr>\n",
       "    <tr>\n",
       "      <th>36271</th>\n",
       "      <td>2</td>\n",
       "      <td>0</td>\n",
       "      <td>1</td>\n",
       "      <td>3</td>\n",
       "      <td>0</td>\n",
       "      <td>228</td>\n",
       "      <td>2018</td>\n",
       "      <td>10</td>\n",
       "      <td>17</td>\n",
       "      <td>0</td>\n",
       "      <td>...</td>\n",
       "      <td>0.0</td>\n",
       "      <td>0.0</td>\n",
       "      <td>0.0</td>\n",
       "      <td>0.0</td>\n",
       "      <td>0.0</td>\n",
       "      <td>0.0</td>\n",
       "      <td>0.0</td>\n",
       "      <td>0.0</td>\n",
       "      <td>1.0</td>\n",
       "      <td>Canceled</td>\n",
       "    </tr>\n",
       "    <tr>\n",
       "      <th>36272</th>\n",
       "      <td>2</td>\n",
       "      <td>0</td>\n",
       "      <td>2</td>\n",
       "      <td>6</td>\n",
       "      <td>0</td>\n",
       "      <td>148</td>\n",
       "      <td>2018</td>\n",
       "      <td>7</td>\n",
       "      <td>1</td>\n",
       "      <td>0</td>\n",
       "      <td>...</td>\n",
       "      <td>0.0</td>\n",
       "      <td>0.0</td>\n",
       "      <td>0.0</td>\n",
       "      <td>0.0</td>\n",
       "      <td>0.0</td>\n",
       "      <td>0.0</td>\n",
       "      <td>0.0</td>\n",
       "      <td>0.0</td>\n",
       "      <td>1.0</td>\n",
       "      <td>Not_Canceled</td>\n",
       "    </tr>\n",
       "    <tr>\n",
       "      <th>36273</th>\n",
       "      <td>2</td>\n",
       "      <td>0</td>\n",
       "      <td>0</td>\n",
       "      <td>3</td>\n",
       "      <td>0</td>\n",
       "      <td>63</td>\n",
       "      <td>2018</td>\n",
       "      <td>4</td>\n",
       "      <td>21</td>\n",
       "      <td>0</td>\n",
       "      <td>...</td>\n",
       "      <td>0.0</td>\n",
       "      <td>0.0</td>\n",
       "      <td>0.0</td>\n",
       "      <td>0.0</td>\n",
       "      <td>0.0</td>\n",
       "      <td>0.0</td>\n",
       "      <td>0.0</td>\n",
       "      <td>0.0</td>\n",
       "      <td>1.0</td>\n",
       "      <td>Canceled</td>\n",
       "    </tr>\n",
       "    <tr>\n",
       "      <th>36274</th>\n",
       "      <td>2</td>\n",
       "      <td>0</td>\n",
       "      <td>1</td>\n",
       "      <td>2</td>\n",
       "      <td>0</td>\n",
       "      <td>207</td>\n",
       "      <td>2018</td>\n",
       "      <td>12</td>\n",
       "      <td>30</td>\n",
       "      <td>0</td>\n",
       "      <td>...</td>\n",
       "      <td>0.0</td>\n",
       "      <td>0.0</td>\n",
       "      <td>0.0</td>\n",
       "      <td>0.0</td>\n",
       "      <td>0.0</td>\n",
       "      <td>0.0</td>\n",
       "      <td>0.0</td>\n",
       "      <td>1.0</td>\n",
       "      <td>0.0</td>\n",
       "      <td>Not_Canceled</td>\n",
       "    </tr>\n",
       "  </tbody>\n",
       "</table>\n",
       "<p>36275 rows × 27 columns</p>\n",
       "</div>"
      ],
      "text/plain": [
       "       no_of_adults  no_of_children  no_of_weekend_nights  no_of_week_nights  \\\n",
       "0                 2               0                     1                  2   \n",
       "1                 2               0                     2                  3   \n",
       "2                 1               0                     2                  1   \n",
       "3                 2               0                     0                  2   \n",
       "4                 2               0                     1                  1   \n",
       "...             ...             ...                   ...                ...   \n",
       "36270             3               0                     2                  6   \n",
       "36271             2               0                     1                  3   \n",
       "36272             2               0                     2                  6   \n",
       "36273             2               0                     0                  3   \n",
       "36274             2               0                     1                  2   \n",
       "\n",
       "       required_car_parking_space  lead_time  arrival_year  arrival_month  \\\n",
       "0                               0        224          2017             10   \n",
       "1                               0          5          2018             11   \n",
       "2                               0          1          2018              2   \n",
       "3                               0        211          2018              5   \n",
       "4                               0         48          2018              4   \n",
       "...                           ...        ...           ...            ...   \n",
       "36270                           0         85          2018              8   \n",
       "36271                           0        228          2018             10   \n",
       "36272                           0        148          2018              7   \n",
       "36273                           0         63          2018              4   \n",
       "36274                           0        207          2018             12   \n",
       "\n",
       "       arrival_date  repeated_guest  ...  room_type_reserved_Room_Type 4  \\\n",
       "0                 2               0  ...                             0.0   \n",
       "1                 6               0  ...                             0.0   \n",
       "2                28               0  ...                             0.0   \n",
       "3                20               0  ...                             0.0   \n",
       "4                11               0  ...                             0.0   \n",
       "...             ...             ...  ...                             ...   \n",
       "36270             3               0  ...                             1.0   \n",
       "36271            17               0  ...                             0.0   \n",
       "36272             1               0  ...                             0.0   \n",
       "36273            21               0  ...                             0.0   \n",
       "36274            30               0  ...                             0.0   \n",
       "\n",
       "       room_type_reserved_Room_Type 5  room_type_reserved_Room_Type 6  \\\n",
       "0                                 0.0                             0.0   \n",
       "1                                 0.0                             0.0   \n",
       "2                                 0.0                             0.0   \n",
       "3                                 0.0                             0.0   \n",
       "4                                 0.0                             0.0   \n",
       "...                               ...                             ...   \n",
       "36270                             0.0                             0.0   \n",
       "36271                             0.0                             0.0   \n",
       "36272                             0.0                             0.0   \n",
       "36273                             0.0                             0.0   \n",
       "36274                             0.0                             0.0   \n",
       "\n",
       "       room_type_reserved_Room_Type 7  market_segment_type_Aviation  \\\n",
       "0                                 0.0                           0.0   \n",
       "1                                 0.0                           0.0   \n",
       "2                                 0.0                           0.0   \n",
       "3                                 0.0                           0.0   \n",
       "4                                 0.0                           0.0   \n",
       "...                               ...                           ...   \n",
       "36270                             0.0                           0.0   \n",
       "36271                             0.0                           0.0   \n",
       "36272                             0.0                           0.0   \n",
       "36273                             0.0                           0.0   \n",
       "36274                             0.0                           0.0   \n",
       "\n",
       "       market_segment_type_Complementary  market_segment_type_Corporate  \\\n",
       "0                                    0.0                            0.0   \n",
       "1                                    0.0                            0.0   \n",
       "2                                    0.0                            0.0   \n",
       "3                                    0.0                            0.0   \n",
       "4                                    0.0                            0.0   \n",
       "...                                  ...                            ...   \n",
       "36270                                0.0                            0.0   \n",
       "36271                                0.0                            0.0   \n",
       "36272                                0.0                            0.0   \n",
       "36273                                0.0                            0.0   \n",
       "36274                                0.0                            0.0   \n",
       "\n",
       "       market_segment_type_Offline  market_segment_type_Online  booking_status  \n",
       "0                              1.0                         0.0    Not_Canceled  \n",
       "1                              0.0                         1.0    Not_Canceled  \n",
       "2                              0.0                         1.0        Canceled  \n",
       "3                              0.0                         1.0        Canceled  \n",
       "4                              0.0                         1.0        Canceled  \n",
       "...                            ...                         ...             ...  \n",
       "36270                          0.0                         1.0    Not_Canceled  \n",
       "36271                          0.0                         1.0        Canceled  \n",
       "36272                          0.0                         1.0    Not_Canceled  \n",
       "36273                          0.0                         1.0        Canceled  \n",
       "36274                          1.0                         0.0    Not_Canceled  \n",
       "\n",
       "[36275 rows x 27 columns]"
      ]
     },
     "execution_count": 12,
     "metadata": {},
     "output_type": "execute_result"
    }
   ],
   "source": [
    "#poping target column inbetween the columns and  adding it to the last\n",
    "booking_status_col = data_encoded.pop(\"booking_status\")\n",
    "data_encoded[\"booking_status\"] = booking_status_col #this line will create the column in the last with the name \"booking_status\"\n",
    "# and it will add the content of the poped out data which is stored in booking_data_col will be added to the created column. \n",
    "data_encoded"
   ]
  },
  {
   "cell_type": "code",
   "execution_count": 13,
   "id": "1d861e0e",
   "metadata": {},
   "outputs": [
    {
     "name": "stdout",
     "output_type": "stream",
     "text": [
      "<class 'pandas.core.frame.DataFrame'>\n",
      "RangeIndex: 36275 entries, 0 to 36274\n",
      "Data columns (total 27 columns):\n",
      " #   Column                                Non-Null Count  Dtype  \n",
      "---  ------                                --------------  -----  \n",
      " 0   no_of_adults                          36275 non-null  int64  \n",
      " 1   no_of_children                        36275 non-null  int64  \n",
      " 2   no_of_weekend_nights                  36275 non-null  int64  \n",
      " 3   no_of_week_nights                     36275 non-null  int64  \n",
      " 4   required_car_parking_space            36275 non-null  int64  \n",
      " 5   lead_time                             36275 non-null  int64  \n",
      " 6   arrival_year                          36275 non-null  int64  \n",
      " 7   arrival_month                         36275 non-null  int64  \n",
      " 8   arrival_date                          36275 non-null  int64  \n",
      " 9   repeated_guest                        36275 non-null  int64  \n",
      " 10  no_of_previous_cancellations          36275 non-null  int64  \n",
      " 11  no_of_previous_bookings_not_canceled  36275 non-null  int64  \n",
      " 12  avg_price_per_room                    36275 non-null  float64\n",
      " 13  no_of_special_requests                36275 non-null  int64  \n",
      " 14  room_type_reserved_Room_Type 1        36275 non-null  float64\n",
      " 15  room_type_reserved_Room_Type 2        36275 non-null  float64\n",
      " 16  room_type_reserved_Room_Type 3        36275 non-null  float64\n",
      " 17  room_type_reserved_Room_Type 4        36275 non-null  float64\n",
      " 18  room_type_reserved_Room_Type 5        36275 non-null  float64\n",
      " 19  room_type_reserved_Room_Type 6        36275 non-null  float64\n",
      " 20  room_type_reserved_Room_Type 7        36275 non-null  float64\n",
      " 21  market_segment_type_Aviation          36275 non-null  float64\n",
      " 22  market_segment_type_Complementary     36275 non-null  float64\n",
      " 23  market_segment_type_Corporate         36275 non-null  float64\n",
      " 24  market_segment_type_Offline           36275 non-null  float64\n",
      " 25  market_segment_type_Online            36275 non-null  float64\n",
      " 26  booking_status                        36275 non-null  object \n",
      "dtypes: float64(13), int64(13), object(1)\n",
      "memory usage: 7.5+ MB\n"
     ]
    }
   ],
   "source": [
    "data_encoded.info()"
   ]
  },
  {
   "cell_type": "markdown",
   "id": "6e9c6b13",
   "metadata": {},
   "source": [
    "see, previously it was 15th column. After poping and adding to the last now its the 27th column."
   ]
  },
  {
   "cell_type": "code",
   "execution_count": 14,
   "id": "c5287ccd",
   "metadata": {},
   "outputs": [
    {
     "data": {
      "text/plain": [
       "Not_Canceled    24390\n",
       "Canceled        11885\n",
       "Name: booking_status, dtype: int64"
      ]
     },
     "execution_count": 14,
     "metadata": {},
     "output_type": "execute_result"
    }
   ],
   "source": [
    "data_encoded[\"booking_status\"].value_counts()"
   ]
  },
  {
   "cell_type": "markdown",
   "id": "8fed41fc",
   "metadata": {},
   "source": [
    "# Data Visualization\n",
    "\n",
    "Firstly, we are plotting the object columns with categories with the bar plots to know the value counts of each category."
   ]
  },
  {
   "cell_type": "code",
   "execution_count": 15,
   "id": "6502856d",
   "metadata": {},
   "outputs": [
    {
     "name": "stdout",
     "output_type": "stream",
     "text": [
      "Object Columns:  ['room_type_reserved', 'market_segment_type', 'booking_status']\n"
     ]
    },
    {
     "data": {
      "image/png": "[encoded data removed]",
      "text/plain": [
       "<Figure size 1900x600 with 3 Axes>"
      ]
     },
     "metadata": {},
     "output_type": "display_data"
    }
   ],
   "source": [
    "\n",
    "# Create a list of object columns\n",
    "object_cols = [col for col in d.columns if d[col].dtype == \"object\"] \n",
    "# This is done by looping through the columns in the d DataFrame and checking the data type of each column.\n",
    "# If the data type of a column is object, then it is added to the list of object columns.\n",
    "\n",
    "\n",
    "# Create a figure with three subplots\n",
    "fig, (ax1, ax2, ax3) = plt.subplots(1, 3, figsize=(19, 6)) \n",
    "# The second line of code creates a figure with three subplots.\n",
    "# This is done using the plt.subplots() function. \n",
    "# The 1, 3 in the plt.subplots() function specifies that we want to create a figure with 1 row and 3 columns. \n",
    "# The figsize=(19, 6) parameter specifies the size of the figure in inches.\n",
    "\n",
    "# Plot the object columns in the subplots\n",
    "for col, ax in zip(object_cols, (ax1, ax2, ax3)):\n",
    "    d[col].value_counts().plot(kind=\"bar\", ax=ax, color=\"SkyBlue\")\n",
    "    ax.set_title(col)\n",
    "    ax.set_ylabel(\"Count\")\n",
    "# This line of code plots the object columns in the subplots. \n",
    "# This is done using a for loop. \n",
    "# The for loop iterates through the list of object columns and plots the value counts for each column in a separate subplot.\n",
    "# The d[col].value_counts() function returns the number of times each value appears in the col column.\n",
    "# The plot(kind=\"bar\", ax=ax, color=\"SkyBlue\") function plots the value counts as a bar chart.\n",
    "# The ax.set_title(col) and ax.set_ylabel(\"Count\") functions set the title and y-axis label for the subplot.\n",
    "    \n",
    "\n",
    "print(\"Object Columns: \",object_cols)\n",
    "plt.show() # line of code shows the plot. This is done using the plt.show() function."
   ]
  },
  {
   "cell_type": "markdown",
   "id": "cd7ce922",
   "metadata": {},
   "source": [
    "#### Observations:\n",
    "\n",
    "1) Room_Type 1 is the most chosen by the customers. Need to explore with booking status i.e., (room_type_reserved vs booking_status)"
   ]
  },
  {
   "cell_type": "code",
   "execution_count": 16,
   "id": "d95e9ae0",
   "metadata": {},
   "outputs": [
    {
     "data": {
      "text/plain": [
       "['Room_Type 1',\n",
       " 'Room_Type 2',\n",
       " 'Room_Type 3',\n",
       " 'Room_Type 4',\n",
       " 'Room_Type 5',\n",
       " 'Room_Type 6',\n",
       " 'Room_Type 7']"
      ]
     },
     "execution_count": 16,
     "metadata": {},
     "output_type": "execute_result"
    }
   ],
   "source": [
    "sorted(list(d[\"room_type_reserved\"].unique()))\n"
   ]
  },
  {
   "cell_type": "code",
   "execution_count": 17,
   "id": "6339bebc",
   "metadata": {},
   "outputs": [
    {
     "name": "stdout",
     "output_type": "stream",
     "text": [
      "{'Room_Type 1': {'Not_Canceled': 19058, 'Canceled': 9072}, 'Room_Type 4': {'Not_Canceled': 3988, 'Canceled': 2069}, 'Room_Type 2': {'Not_Canceled': 464, 'Canceled': 228}, 'Room_Type 6': {'Not_Canceled': 560, 'Canceled': 406}, 'Room_Type 5': {'Not_Canceled': 193, 'Canceled': 72}, 'Room_Type 7': {'Not_Canceled': 122, 'Canceled': 36}, 'Room_Type 3': {'Not_Canceled': 5, 'Canceled': 2}}\n",
      "[[ 9072 19058]\n",
      " [ 2069  3988]\n",
      " [  228   464]\n",
      " [  406   560]\n",
      " [   72   193]\n",
      " [   36   122]\n",
      " [    2     5]]\n",
      "['Room_Type 1', 'Room_Type 4', 'Room_Type 2', 'Room_Type 6', 'Room_Type 5', 'Room_Type 7', 'Room_Type 3']\n"
     ]
    }
   ],
   "source": [
    "\n",
    "# Create a dictionary to store the counts of booking_status for each room_type_reserved\n",
    "counts = {}\n",
    "for room_type, booking_status in zip(d[\"room_type_reserved\"], d[\"booking_status\"]):\n",
    "    if room_type not in counts:\n",
    "        counts[room_type] = {}\n",
    "    if booking_status not in counts[room_type]:\n",
    "        counts[room_type][booking_status] = 0\n",
    "    counts[room_type][booking_status] += 1\n",
    "\n",
    "print(counts)    \n",
    "# Create a NumPy array to store the counts of booking_status for each room_type_reserved\n",
    "bar_data = np.array([[counts[room_type][\"Canceled\"], counts[room_type][\"Not_Canceled\"]] for room_type in counts])\n",
    "bar_keys = list(counts.keys())\n",
    "\n",
    "print(bar_data)\n",
    "print(bar_keys)"
   ]
  },
  {
   "cell_type": "code",
   "execution_count": 18,
   "id": "d2840a01",
   "metadata": {},
   "outputs": [
    {
     "data": {
      "image/png": "[encoded data removed]",
      "text/plain": [
       "<Figure size 640x480 with 1 Axes>"
      ]
     },
     "metadata": {},
     "output_type": "display_data"
    }
   ],
   "source": [
    "\n",
    "room_type_reserved_col = (tuple(bar_keys))\n",
    "counts = {\n",
    "    'Cancelled': tuple([bar_data[i][0] for i in range(bar_data.shape[0])]),\n",
    "    'Not Cancelled': tuple([bar_data[i][1] for i in range(bar_data.shape[0])]),\n",
    "\n",
    "}\n",
    "\n",
    "x = np.arange(len(room_type_reserved_col))  # the label locations\n",
    "width = 0.45  # the width of the bars\n",
    "multiplier = 0\n",
    "\n",
    "fig, ax = plt.subplots(layout='constrained')\n",
    "\n",
    "for attribute, measurement in counts.items():\n",
    "    offset = width * multiplier\n",
    "    rects = ax.bar(x + offset, measurement, width, label=attribute)\n",
    "    ax.bar_label(rects, padding=5)\n",
    "    multiplier += 1\n",
    "\n",
    "# Add some text for labels, title and custom x-axis tick labels, etc.\n",
    "    # Display the values horizontally on x-axis and on the data bars with their values as well\n",
    "    ax.set_xticks(x + width / 2)\n",
    "    ax.set_xticklabels(room_type_reserved_col, rotation=45)\n",
    "    ax.set_ylabel('Counts')\n",
    "    ax.set_title('Cancellation Status by room_type_reserved')\n",
    "    ax.legend(loc='upper left', ncols=3)\n",
    "    ax.set_ylim(0, 25000)\n",
    "\n",
    "plt.show()"
   ]
  },
  {
   "cell_type": "code",
   "execution_count": 19,
   "id": "c8783f4d",
   "metadata": {},
   "outputs": [
    {
     "data": {
      "text/plain": [
       "Online           23214\n",
       "Offline          10528\n",
       "Corporate         2017\n",
       "Complementary      391\n",
       "Aviation           125\n",
       "Name: market_segment_type, dtype: int64"
      ]
     },
     "execution_count": 19,
     "metadata": {},
     "output_type": "execute_result"
    }
   ],
   "source": [
    "d[\"market_segment_type\"].value_counts()"
   ]
  },
  {
   "cell_type": "markdown",
   "id": "bf755bd8",
   "metadata": {},
   "source": [
    "### Cancellation Status by Market Segment Type\n",
    "\n",
    "<img src=\"images/market_segment.png\" width=\"800\" height=\"800\" style=\"float:left\"/>"
   ]
  },
  {
   "cell_type": "markdown",
   "id": "74adbf7d",
   "metadata": {},
   "source": []
  },
  {
   "cell_type": "code",
   "execution_count": 20,
   "id": "5daa36a9",
   "metadata": {},
   "outputs": [],
   "source": [
    "non_float_cols = [col for col in d.columns if (d[col].dtype != \"object\") and (col not in (\"lead_time\", \"avg_price_per_room\",\"no_of_previous_bookings_not_canceled\",\"arrival_date\"))]\n",
    "float_cols = [col for col in d[[\"lead_time\", \"avg_price_per_room\",\"no_of_previous_bookings_not_canceled\",\"arrival_date\"]]]"
   ]
  },
  {
   "cell_type": "code",
   "execution_count": 21,
   "id": "5fb46bf9",
   "metadata": {
    "scrolled": true
   },
   "outputs": [
    {
     "name": "stdout",
     "output_type": "stream",
     "text": [
      "['no_of_adults', 'no_of_children', 'no_of_weekend_nights', 'no_of_week_nights', 'required_car_parking_space', 'arrival_year', 'arrival_month', 'repeated_guest', 'no_of_previous_cancellations', 'no_of_special_requests']\n",
      "['lead_time', 'avg_price_per_room', 'no_of_previous_bookings_not_canceled', 'arrival_date']\n"
     ]
    }
   ],
   "source": [
    "print(non_float_cols)\n",
    "print(float_cols)"
   ]
  },
  {
   "cell_type": "code",
   "execution_count": 19,
   "id": "5d6a2bc4",
   "metadata": {},
   "outputs": [
    {
     "data": {
      "image/png": "[encoded data removed]",
      "text/plain": [
       "<Figure size 1000x500 with 1 Axes>"
      ]
     },
     "metadata": {},
     "output_type": "display_data"
    }
   ],
   "source": [
    "\n",
    "# Create a figure with 2 rows and 1 column\n",
    "fig, axes = plt.subplots(1, 1, figsize=(10, 5))\n",
    "\n",
    "d[\"avg_price_per_room\"].plot(kind=\"hist\", ax=axes, color=\"blue\")\n",
    "axes.set_title(\"Average Price Per Room\")\n",
    "axes.set_ylabel(\"Count\")\n",
    "\n",
    "    # Set the x-axis limits to avoid clumbiness\n",
    "axes.set_xticks(np.arange(0, axes.get_xlim()[1], 40))\n",
    "axes.bar_label(axes.containers[0])\n",
    "\n",
    "plt.show()"
   ]
  },
  {
   "cell_type": "code",
   "execution_count": 26,
   "id": "ef5bdb2c",
   "metadata": {},
   "outputs": [
    {
     "data": {
      "image/png": "[encoded data removed]",
      "text/plain": [
       "<Figure size 2000x1000 with 1 Axes>"
      ]
     },
     "metadata": {},
     "output_type": "display_data"
    }
   ],
   "source": [
    "\n",
    "# Create a figure with 2 rows and 1 column\n",
    "fig, axes = plt.subplots(1, 1, figsize=(20, 10))\n",
    "\n",
    "d[\"lead_time\"].plot(kind=\"hist\", ax=axes, color=\"blue\")\n",
    "axes.set_title(\"Lead Time\")\n",
    "axes.set_ylabel(\"Count\")\n",
    "\n",
    "\n",
    "axes.set_xticks(np.arange(0, axes.get_xlim()[1], 30))\n",
    "plt.xticks(rotation=40,size=12)\n",
    "axes.bar_label(axes.containers[0])\n",
    "\n",
    "plt.show()"
   ]
  },
  {
   "cell_type": "code",
   "execution_count": 24,
   "id": "e3721b98",
   "metadata": {},
   "outputs": [
    {
     "data": {
      "image/png": "[encoded data removed]",
      "text/plain": [
       "<Figure size 1500x1500 with 6 Axes>"
      ]
     },
     "metadata": {},
     "output_type": "display_data"
    }
   ],
   "source": [
    "import numpy as np\n",
    "import matplotlib.pyplot as plt\n",
    "import math\n",
    "\n",
    "# Create a list of numeric columns\n",
    "\n",
    "\n",
    "# Create a figure with 3 rows and 4 columns\n",
    "fig, axes = plt.subplots(3,2 , figsize=(15, 15))\n",
    "\n",
    "# Plot the numeric columns in the subplots\n",
    "for col, ax in zip(non_float_cols[0:6], axes.flatten()):\n",
    "    d[col].value_counts().plot(kind=\"bar\", ax=ax, color=\"blue\")\n",
    "    ax.set_title(col)\n",
    "    ax.set_ylabel(\"Count\")\n",
    "    ax.bar_label(ax.containers[0])\n",
    "\n",
    "plt.show()"
   ]
  },
  {
   "cell_type": "code",
   "execution_count": 25,
   "id": "290dff9e",
   "metadata": {},
   "outputs": [
    {
     "data": {
      "image/png": "[encoded data removed]",
      "text/plain": [
       "<Figure size 1500x1500 with 4 Axes>"
      ]
     },
     "metadata": {},
     "output_type": "display_data"
    }
   ],
   "source": [
    "import numpy as np\n",
    "import matplotlib.pyplot as plt\n",
    "import math\n",
    "\n",
    "# Create a list of numeric columns\n",
    "\n",
    "\n",
    "# Create a figure with 3 rows and 4 columns\n",
    "fig, axes = plt.subplots(2,2 , figsize=(15, 15))\n",
    "\n",
    "# Plot the numeric columns in the subplots\n",
    "for col, ax in zip(non_float_cols[6:10], axes.flatten()):\n",
    "    d[col].value_counts().plot(kind=\"bar\", ax=ax, color=\"blue\")\n",
    "    ax.set_title(col)\n",
    "    ax.set_ylabel(\"Count\")\n",
    "    ax.bar_label(ax.containers[0])\n",
    "\n",
    "plt.show()"
   ]
  },
  {
   "cell_type": "code",
   "execution_count": 51,
   "id": "ffd973c2",
   "metadata": {},
   "outputs": [
    {
     "data": {
      "image/png": "[encoded data removed]",
      "text/plain": [
       "<Figure size 1500x1000 with 1 Axes>"
      ]
     },
     "metadata": {},
     "output_type": "display_data"
    }
   ],
   "source": [
    "import numpy as np\n",
    "import matplotlib.pyplot as plt\n",
    "import math\n",
    "\n",
    "\n",
    "# Create a figure and a single subplot\n",
    "fig, ax = plt.subplots(figsize=(15, 10))\n",
    "\n",
    "# Plot the numeric columns in the subplot\n",
    "d['booking_status'].value_counts().plot(kind=\"bar\", ax=ax, color=[\"green\",\"red\"])\n",
    "ax.set_title(\"Booking Status Distribution\", size = 25)\n",
    "plt.xticks(rotation=0,size=20)\n",
    "ax.set_ylabel(\"Count\", size=25)\n",
    "plt.yticks(size=20)\n",
    "ax.bar_label(ax.containers[0], size=20)\n",
    "\n",
    "plt.show()"
   ]
  },
  {
   "cell_type": "markdown",
   "id": "1859f075",
   "metadata": {},
   "source": [
    "When dealing with imbalanced datasets, where one class has significantly more samples than the other, it can lead to biased model performance. <br>\n",
    "\n",
    "From the above it is observed that, data is higly imbalanced majority class is 24390 and Minority Class is 11885.For this imbalance, we need to apply data resampling techniques.<br>\n",
    "\n",
    "So we are considering the \"UNDERSAMPLING\" technique as it randomly remove samples from the majority class to match the number of samples in the minority class. This will be tested after experimenting on OVERSAMPLING. This can potentially discard valuable information, so it should be used with caution.<br>\n",
    "\n",
    "So we are considering \"OVERSAMPLING with SMOTHE\" technique as OVERSAMPLING randomly replicate samples from the minority class to increase its representation. This can lead to overfitting, so techniques like SMOTE (Synthetic Minority Over-sampling Technique) can be used to generate synthetic samples based on the existing minority class samples. This technique is also a risk for random data being generated. <br> \n",
    "\n",
    "Lets See, which technique will be best for the performance, i.e., OVERSAMPLING OE UNDERSAMPLING\n",
    "\n",
    "Before that lets split the data into training and testing sets."
   ]
  },
  {
   "cell_type": "code",
   "execution_count": 52,
   "id": "0abfa147",
   "metadata": {},
   "outputs": [],
   "source": [
    "train_data, test_data, train_target, test_target = train_test_split(\n",
    "    data_encoded.iloc[:, :-1], data_encoded.iloc[:, -1], test_size=0.15, random_state=42\n",
    ")\n",
    "val_data, test_data, val_target, test_target = train_test_split(\n",
    "    test_data, test_target, test_size=0.20, random_state=42\n",
    ")\n",
    "\n",
    "#unseen_data = data_encoded.iloc[:, :-1].sample(frac=0.07, random_state=42)"
   ]
  },
  {
   "cell_type": "markdown",
   "id": "98cf519f",
   "metadata": {},
   "source": [
    "The train_test_split() function is a function from the sklearn.model_selection library. It is used to split a dataset into two parts: a training set and a test set. The training set is used to train a model, and the test set is used to test the model's accuracy.\n",
    "\n",
    "The data_encoded.iloc[:, :-1] part of the code specifies the features of the dataset. The features are the columns of the dataset that are not the target variable. In this case, the target variable is the last column of the dataset.\n",
    "\n",
    "The data_encoded.iloc[:, -1] part of the code specifies the target variable.\n",
    "\n",
    "The test_size=0.15 part of the code specifies the size of the test set. In this case, the test set will be 15% of the total dataset.\n",
    "\n",
    "The random_state=42 part of the code specifies the random seed. This is used to ensure that the same split is produced every time the code is run.\n",
    "\n",
    "In summary, the line of code train_test_split(data_encoded.iloc[:, :-1], data_encoded.iloc[:, -1], test_size=0.1, random_state=42) splits the dataset into a training set and a test set. The training set will be 85% of the total dataset, and the test set will be 15% of the total dataset. The same split will be produced every time the code is run."
   ]
  },
  {
   "cell_type": "code",
   "execution_count": 53,
   "id": "b9226711",
   "metadata": {},
   "outputs": [],
   "source": [
    "# These will be used for Undersampling later.\n",
    "\n",
    "train_data_us = train_data\n",
    "test_data_us = test_data\n",
    "val_data_us = val_data\n",
    "val_target_us = val_target\n",
    "train_target_us = train_target\n",
    "test_target_us = test_target\n",
    "\n",
    "#unseen_data_us = unseen_data"
   ]
  },
  {
   "cell_type": "code",
   "execution_count": 54,
   "id": "abc54523",
   "metadata": {},
   "outputs": [
    {
     "name": "stdout",
     "output_type": "stream",
     "text": [
      "train_data.shape:  (30833, 26)\n",
      "train_target.shape:  (30833,)\n",
      "val_data,shape:  (4353, 26)\n",
      "val_target,shape:  (4353,)\n",
      "test_data.shape:  (1089, 26)\n",
      "test_target.shape:  (1089,)\n"
     ]
    }
   ],
   "source": [
    "print(\"train_data.shape: \",train_data.shape)\n",
    "print(\"train_target.shape: \",train_target.shape)\n",
    "print(\"val_data,shape: \", val_data.shape)\n",
    "print(\"val_target,shape: \", val_target.shape)\n",
    "print(\"test_data.shape: \",test_data.shape)\n",
    "print(\"test_target.shape: \",test_target.shape)\n",
    "#print(\"unseen_data.shape: \",unseen_data.shape)"
   ]
  },
  {
   "cell_type": "code",
   "execution_count": 55,
   "id": "4f32f6c8",
   "metadata": {},
   "outputs": [
    {
     "data": {
      "text/plain": [
       "26071    Not_Canceled\n",
       "10448    Not_Canceled\n",
       "20109    Not_Canceled\n",
       "16177    Not_Canceled\n",
       "17708    Not_Canceled\n",
       "Name: booking_status, dtype: object"
      ]
     },
     "execution_count": 55,
     "metadata": {},
     "output_type": "execute_result"
    }
   ],
   "source": [
    "train_target.head()"
   ]
  },
  {
   "cell_type": "code",
   "execution_count": 56,
   "id": "5eb051b9",
   "metadata": {},
   "outputs": [
    {
     "data": {
      "text/html": [
       "<div>\n",
       "<style scoped>\n",
       "    .dataframe tbody tr th:only-of-type {\n",
       "        vertical-align: middle;\n",
       "    }\n",
       "\n",
       "    .dataframe tbody tr th {\n",
       "        vertical-align: top;\n",
       "    }\n",
       "\n",
       "    .dataframe thead th {\n",
       "        text-align: right;\n",
       "    }\n",
       "</style>\n",
       "<table border=\"1\" class=\"dataframe\">\n",
       "  <thead>\n",
       "    <tr style=\"text-align: right;\">\n",
       "      <th></th>\n",
       "      <th>no_of_adults</th>\n",
       "      <th>no_of_children</th>\n",
       "      <th>no_of_weekend_nights</th>\n",
       "      <th>no_of_week_nights</th>\n",
       "      <th>required_car_parking_space</th>\n",
       "      <th>lead_time</th>\n",
       "      <th>arrival_year</th>\n",
       "      <th>arrival_month</th>\n",
       "      <th>arrival_date</th>\n",
       "      <th>repeated_guest</th>\n",
       "      <th>...</th>\n",
       "      <th>room_type_reserved_Room_Type 3</th>\n",
       "      <th>room_type_reserved_Room_Type 4</th>\n",
       "      <th>room_type_reserved_Room_Type 5</th>\n",
       "      <th>room_type_reserved_Room_Type 6</th>\n",
       "      <th>room_type_reserved_Room_Type 7</th>\n",
       "      <th>market_segment_type_Aviation</th>\n",
       "      <th>market_segment_type_Complementary</th>\n",
       "      <th>market_segment_type_Corporate</th>\n",
       "      <th>market_segment_type_Offline</th>\n",
       "      <th>market_segment_type_Online</th>\n",
       "    </tr>\n",
       "  </thead>\n",
       "  <tbody>\n",
       "    <tr>\n",
       "      <th>26071</th>\n",
       "      <td>2</td>\n",
       "      <td>0</td>\n",
       "      <td>2</td>\n",
       "      <td>2</td>\n",
       "      <td>0</td>\n",
       "      <td>38</td>\n",
       "      <td>2018</td>\n",
       "      <td>9</td>\n",
       "      <td>10</td>\n",
       "      <td>0</td>\n",
       "      <td>...</td>\n",
       "      <td>0.0</td>\n",
       "      <td>0.0</td>\n",
       "      <td>0.0</td>\n",
       "      <td>0.0</td>\n",
       "      <td>0.0</td>\n",
       "      <td>0.0</td>\n",
       "      <td>0.0</td>\n",
       "      <td>0.0</td>\n",
       "      <td>1.0</td>\n",
       "      <td>0.0</td>\n",
       "    </tr>\n",
       "    <tr>\n",
       "      <th>10448</th>\n",
       "      <td>2</td>\n",
       "      <td>0</td>\n",
       "      <td>0</td>\n",
       "      <td>4</td>\n",
       "      <td>0</td>\n",
       "      <td>62</td>\n",
       "      <td>2018</td>\n",
       "      <td>4</td>\n",
       "      <td>5</td>\n",
       "      <td>0</td>\n",
       "      <td>...</td>\n",
       "      <td>0.0</td>\n",
       "      <td>0.0</td>\n",
       "      <td>0.0</td>\n",
       "      <td>0.0</td>\n",
       "      <td>0.0</td>\n",
       "      <td>0.0</td>\n",
       "      <td>0.0</td>\n",
       "      <td>0.0</td>\n",
       "      <td>0.0</td>\n",
       "      <td>1.0</td>\n",
       "    </tr>\n",
       "    <tr>\n",
       "      <th>20109</th>\n",
       "      <td>2</td>\n",
       "      <td>0</td>\n",
       "      <td>2</td>\n",
       "      <td>2</td>\n",
       "      <td>0</td>\n",
       "      <td>134</td>\n",
       "      <td>2017</td>\n",
       "      <td>12</td>\n",
       "      <td>4</td>\n",
       "      <td>0</td>\n",
       "      <td>...</td>\n",
       "      <td>0.0</td>\n",
       "      <td>0.0</td>\n",
       "      <td>0.0</td>\n",
       "      <td>0.0</td>\n",
       "      <td>0.0</td>\n",
       "      <td>0.0</td>\n",
       "      <td>0.0</td>\n",
       "      <td>0.0</td>\n",
       "      <td>1.0</td>\n",
       "      <td>0.0</td>\n",
       "    </tr>\n",
       "    <tr>\n",
       "      <th>16177</th>\n",
       "      <td>2</td>\n",
       "      <td>0</td>\n",
       "      <td>2</td>\n",
       "      <td>5</td>\n",
       "      <td>0</td>\n",
       "      <td>6</td>\n",
       "      <td>2017</td>\n",
       "      <td>9</td>\n",
       "      <td>20</td>\n",
       "      <td>0</td>\n",
       "      <td>...</td>\n",
       "      <td>0.0</td>\n",
       "      <td>0.0</td>\n",
       "      <td>0.0</td>\n",
       "      <td>0.0</td>\n",
       "      <td>0.0</td>\n",
       "      <td>0.0</td>\n",
       "      <td>0.0</td>\n",
       "      <td>0.0</td>\n",
       "      <td>0.0</td>\n",
       "      <td>1.0</td>\n",
       "    </tr>\n",
       "    <tr>\n",
       "      <th>17708</th>\n",
       "      <td>2</td>\n",
       "      <td>1</td>\n",
       "      <td>2</td>\n",
       "      <td>0</td>\n",
       "      <td>0</td>\n",
       "      <td>9</td>\n",
       "      <td>2018</td>\n",
       "      <td>1</td>\n",
       "      <td>17</td>\n",
       "      <td>0</td>\n",
       "      <td>...</td>\n",
       "      <td>0.0</td>\n",
       "      <td>0.0</td>\n",
       "      <td>0.0</td>\n",
       "      <td>0.0</td>\n",
       "      <td>0.0</td>\n",
       "      <td>0.0</td>\n",
       "      <td>0.0</td>\n",
       "      <td>0.0</td>\n",
       "      <td>0.0</td>\n",
       "      <td>1.0</td>\n",
       "    </tr>\n",
       "  </tbody>\n",
       "</table>\n",
       "<p>5 rows × 26 columns</p>\n",
       "</div>"
      ],
      "text/plain": [
       "       no_of_adults  no_of_children  no_of_weekend_nights  no_of_week_nights  \\\n",
       "26071             2               0                     2                  2   \n",
       "10448             2               0                     0                  4   \n",
       "20109             2               0                     2                  2   \n",
       "16177             2               0                     2                  5   \n",
       "17708             2               1                     2                  0   \n",
       "\n",
       "       required_car_parking_space  lead_time  arrival_year  arrival_month  \\\n",
       "26071                           0         38          2018              9   \n",
       "10448                           0         62          2018              4   \n",
       "20109                           0        134          2017             12   \n",
       "16177                           0          6          2017              9   \n",
       "17708                           0          9          2018              1   \n",
       "\n",
       "       arrival_date  repeated_guest  ...  room_type_reserved_Room_Type 3  \\\n",
       "26071            10               0  ...                             0.0   \n",
       "10448             5               0  ...                             0.0   \n",
       "20109             4               0  ...                             0.0   \n",
       "16177            20               0  ...                             0.0   \n",
       "17708            17               0  ...                             0.0   \n",
       "\n",
       "       room_type_reserved_Room_Type 4  room_type_reserved_Room_Type 5  \\\n",
       "26071                             0.0                             0.0   \n",
       "10448                             0.0                             0.0   \n",
       "20109                             0.0                             0.0   \n",
       "16177                             0.0                             0.0   \n",
       "17708                             0.0                             0.0   \n",
       "\n",
       "       room_type_reserved_Room_Type 6  room_type_reserved_Room_Type 7  \\\n",
       "26071                             0.0                             0.0   \n",
       "10448                             0.0                             0.0   \n",
       "20109                             0.0                             0.0   \n",
       "16177                             0.0                             0.0   \n",
       "17708                             0.0                             0.0   \n",
       "\n",
       "       market_segment_type_Aviation  market_segment_type_Complementary  \\\n",
       "26071                           0.0                                0.0   \n",
       "10448                           0.0                                0.0   \n",
       "20109                           0.0                                0.0   \n",
       "16177                           0.0                                0.0   \n",
       "17708                           0.0                                0.0   \n",
       "\n",
       "       market_segment_type_Corporate  market_segment_type_Offline  \\\n",
       "26071                            0.0                          1.0   \n",
       "10448                            0.0                          0.0   \n",
       "20109                            0.0                          1.0   \n",
       "16177                            0.0                          0.0   \n",
       "17708                            0.0                          0.0   \n",
       "\n",
       "       market_segment_type_Online  \n",
       "26071                         0.0  \n",
       "10448                         1.0  \n",
       "20109                         0.0  \n",
       "16177                         1.0  \n",
       "17708                         1.0  \n",
       "\n",
       "[5 rows x 26 columns]"
      ]
     },
     "execution_count": 56,
     "metadata": {},
     "output_type": "execute_result"
    }
   ],
   "source": [
    "train_data.head()"
   ]
  },
  {
   "cell_type": "markdown",
   "id": "2c794bb6",
   "metadata": {},
   "source": [
    "**How Does SMOTHE(Synthetic Minority Over-sampling Technique) Work ?**<br>\n",
    "\n",
    "SMOTE (Synthetic Minority Over-sampling Technique) is a popular technique for addressing class imbalance by generating synthetic samples for the minority class. It creates new synthetic samples by interpolating between existing minority class samples.<br>\n",
    "\n",
    "**Here's how SMOTE works:**<br>\n",
    "\n",
    "1) Select a minority class sample: SMOTE randomly selects a minority class sample from the dataset.<br>\n",
    "\n",
    "2) Find nearest neighbors: SMOTE calculates the k nearest neighbors of the selected sample. The value of k is specified by the user.<br>\n",
    "\n",
    "3) Generate synthetic samples: For each selected sample, SMOTE creates synthetic samples by interpolating between the feature values of the selected sample and its k nearest neighbors. It randomly selects one or more neighbors and creates synthetic samples by combining the features of the selected sample and its neighbors.<br>\n",
    "\n",
    "4) Repeat steps 1-3: SMOTE repeats steps 1-3 until the desired level of imbalance is achieved or the dataset is balanced.<br>\n",
    "\n",
    "The synthetic samples generated by SMOTE help to increase the representation of the minority class in the dataset. By creating new samples rather than replicating existing ones, SMOTE introduces diversity and reduces the risk of overfitting. It helps to address the class imbalance problem and improve the model's ability to learn and generalize from the minority class.<br>\n",
    "\n",
    "**Note:** SMOTE should only be applied to the training data and not the entire dataset, to avoid information leakage and artificially inflating the performance on the test set.\n",
    "<br>\n",
    "\n",
    "The imbalanced-learn library in Python provides an implementation of SMOTE, allowing you to easily apply this technique to your imbalanced datasets."
   ]
  },
  {
   "cell_type": "code",
   "execution_count": 57,
   "id": "b626825c",
   "metadata": {},
   "outputs": [],
   "source": [
    "# Apply SMOTE for oversampling the minority class\n",
    "\n",
    "smote = SMOTE(random_state=42)\n",
    "train_data_osampled, train_target_osampled = smote.fit_resample(train_data, train_target)"
   ]
  },
  {
   "cell_type": "code",
   "execution_count": 58,
   "id": "82a85ca7",
   "metadata": {},
   "outputs": [
    {
     "data": {
      "text/plain": [
       "((41584, 26), (41584,))"
      ]
     },
     "execution_count": 58,
     "metadata": {},
     "output_type": "execute_result"
    }
   ],
   "source": [
    "train_data_osampled.shape, train_target_osampled.shape"
   ]
  },
  {
   "cell_type": "code",
   "execution_count": 59,
   "id": "1c07ce13",
   "metadata": {},
   "outputs": [
    {
     "data": {
      "text/html": [
       "<div>\n",
       "<style scoped>\n",
       "    .dataframe tbody tr th:only-of-type {\n",
       "        vertical-align: middle;\n",
       "    }\n",
       "\n",
       "    .dataframe tbody tr th {\n",
       "        vertical-align: top;\n",
       "    }\n",
       "\n",
       "    .dataframe thead th {\n",
       "        text-align: right;\n",
       "    }\n",
       "</style>\n",
       "<table border=\"1\" class=\"dataframe\">\n",
       "  <thead>\n",
       "    <tr style=\"text-align: right;\">\n",
       "      <th></th>\n",
       "      <th>no_of_adults</th>\n",
       "      <th>no_of_children</th>\n",
       "      <th>no_of_weekend_nights</th>\n",
       "      <th>no_of_week_nights</th>\n",
       "      <th>required_car_parking_space</th>\n",
       "      <th>lead_time</th>\n",
       "      <th>arrival_year</th>\n",
       "      <th>arrival_month</th>\n",
       "      <th>arrival_date</th>\n",
       "      <th>repeated_guest</th>\n",
       "      <th>...</th>\n",
       "      <th>room_type_reserved_Room_Type 3</th>\n",
       "      <th>room_type_reserved_Room_Type 4</th>\n",
       "      <th>room_type_reserved_Room_Type 5</th>\n",
       "      <th>room_type_reserved_Room_Type 6</th>\n",
       "      <th>room_type_reserved_Room_Type 7</th>\n",
       "      <th>market_segment_type_Aviation</th>\n",
       "      <th>market_segment_type_Complementary</th>\n",
       "      <th>market_segment_type_Corporate</th>\n",
       "      <th>market_segment_type_Offline</th>\n",
       "      <th>market_segment_type_Online</th>\n",
       "    </tr>\n",
       "  </thead>\n",
       "  <tbody>\n",
       "    <tr>\n",
       "      <th>0</th>\n",
       "      <td>2</td>\n",
       "      <td>0</td>\n",
       "      <td>2</td>\n",
       "      <td>2</td>\n",
       "      <td>0</td>\n",
       "      <td>38</td>\n",
       "      <td>2018</td>\n",
       "      <td>9</td>\n",
       "      <td>10</td>\n",
       "      <td>0</td>\n",
       "      <td>...</td>\n",
       "      <td>0.0</td>\n",
       "      <td>0.000000</td>\n",
       "      <td>0.0</td>\n",
       "      <td>0.0</td>\n",
       "      <td>0.0</td>\n",
       "      <td>0.0</td>\n",
       "      <td>0.0</td>\n",
       "      <td>0.0</td>\n",
       "      <td>1.0</td>\n",
       "      <td>0.0</td>\n",
       "    </tr>\n",
       "    <tr>\n",
       "      <th>1</th>\n",
       "      <td>2</td>\n",
       "      <td>0</td>\n",
       "      <td>0</td>\n",
       "      <td>4</td>\n",
       "      <td>0</td>\n",
       "      <td>62</td>\n",
       "      <td>2018</td>\n",
       "      <td>4</td>\n",
       "      <td>5</td>\n",
       "      <td>0</td>\n",
       "      <td>...</td>\n",
       "      <td>0.0</td>\n",
       "      <td>0.000000</td>\n",
       "      <td>0.0</td>\n",
       "      <td>0.0</td>\n",
       "      <td>0.0</td>\n",
       "      <td>0.0</td>\n",
       "      <td>0.0</td>\n",
       "      <td>0.0</td>\n",
       "      <td>0.0</td>\n",
       "      <td>1.0</td>\n",
       "    </tr>\n",
       "    <tr>\n",
       "      <th>2</th>\n",
       "      <td>2</td>\n",
       "      <td>0</td>\n",
       "      <td>2</td>\n",
       "      <td>2</td>\n",
       "      <td>0</td>\n",
       "      <td>134</td>\n",
       "      <td>2017</td>\n",
       "      <td>12</td>\n",
       "      <td>4</td>\n",
       "      <td>0</td>\n",
       "      <td>...</td>\n",
       "      <td>0.0</td>\n",
       "      <td>0.000000</td>\n",
       "      <td>0.0</td>\n",
       "      <td>0.0</td>\n",
       "      <td>0.0</td>\n",
       "      <td>0.0</td>\n",
       "      <td>0.0</td>\n",
       "      <td>0.0</td>\n",
       "      <td>1.0</td>\n",
       "      <td>0.0</td>\n",
       "    </tr>\n",
       "    <tr>\n",
       "      <th>3</th>\n",
       "      <td>2</td>\n",
       "      <td>0</td>\n",
       "      <td>2</td>\n",
       "      <td>5</td>\n",
       "      <td>0</td>\n",
       "      <td>6</td>\n",
       "      <td>2017</td>\n",
       "      <td>9</td>\n",
       "      <td>20</td>\n",
       "      <td>0</td>\n",
       "      <td>...</td>\n",
       "      <td>0.0</td>\n",
       "      <td>0.000000</td>\n",
       "      <td>0.0</td>\n",
       "      <td>0.0</td>\n",
       "      <td>0.0</td>\n",
       "      <td>0.0</td>\n",
       "      <td>0.0</td>\n",
       "      <td>0.0</td>\n",
       "      <td>0.0</td>\n",
       "      <td>1.0</td>\n",
       "    </tr>\n",
       "    <tr>\n",
       "      <th>4</th>\n",
       "      <td>2</td>\n",
       "      <td>1</td>\n",
       "      <td>2</td>\n",
       "      <td>0</td>\n",
       "      <td>0</td>\n",
       "      <td>9</td>\n",
       "      <td>2018</td>\n",
       "      <td>1</td>\n",
       "      <td>17</td>\n",
       "      <td>0</td>\n",
       "      <td>...</td>\n",
       "      <td>0.0</td>\n",
       "      <td>0.000000</td>\n",
       "      <td>0.0</td>\n",
       "      <td>0.0</td>\n",
       "      <td>0.0</td>\n",
       "      <td>0.0</td>\n",
       "      <td>0.0</td>\n",
       "      <td>0.0</td>\n",
       "      <td>0.0</td>\n",
       "      <td>1.0</td>\n",
       "    </tr>\n",
       "    <tr>\n",
       "      <th>...</th>\n",
       "      <td>...</td>\n",
       "      <td>...</td>\n",
       "      <td>...</td>\n",
       "      <td>...</td>\n",
       "      <td>...</td>\n",
       "      <td>...</td>\n",
       "      <td>...</td>\n",
       "      <td>...</td>\n",
       "      <td>...</td>\n",
       "      <td>...</td>\n",
       "      <td>...</td>\n",
       "      <td>...</td>\n",
       "      <td>...</td>\n",
       "      <td>...</td>\n",
       "      <td>...</td>\n",
       "      <td>...</td>\n",
       "      <td>...</td>\n",
       "      <td>...</td>\n",
       "      <td>...</td>\n",
       "      <td>...</td>\n",
       "      <td>...</td>\n",
       "    </tr>\n",
       "    <tr>\n",
       "      <th>41579</th>\n",
       "      <td>2</td>\n",
       "      <td>0</td>\n",
       "      <td>2</td>\n",
       "      <td>0</td>\n",
       "      <td>0</td>\n",
       "      <td>386</td>\n",
       "      <td>2018</td>\n",
       "      <td>10</td>\n",
       "      <td>23</td>\n",
       "      <td>0</td>\n",
       "      <td>...</td>\n",
       "      <td>0.0</td>\n",
       "      <td>0.000000</td>\n",
       "      <td>0.0</td>\n",
       "      <td>0.0</td>\n",
       "      <td>0.0</td>\n",
       "      <td>0.0</td>\n",
       "      <td>0.0</td>\n",
       "      <td>0.0</td>\n",
       "      <td>1.0</td>\n",
       "      <td>0.0</td>\n",
       "    </tr>\n",
       "    <tr>\n",
       "      <th>41580</th>\n",
       "      <td>2</td>\n",
       "      <td>0</td>\n",
       "      <td>1</td>\n",
       "      <td>2</td>\n",
       "      <td>0</td>\n",
       "      <td>32</td>\n",
       "      <td>2018</td>\n",
       "      <td>7</td>\n",
       "      <td>12</td>\n",
       "      <td>0</td>\n",
       "      <td>...</td>\n",
       "      <td>0.0</td>\n",
       "      <td>0.492997</td>\n",
       "      <td>0.0</td>\n",
       "      <td>0.0</td>\n",
       "      <td>0.0</td>\n",
       "      <td>0.0</td>\n",
       "      <td>0.0</td>\n",
       "      <td>0.0</td>\n",
       "      <td>0.0</td>\n",
       "      <td>1.0</td>\n",
       "    </tr>\n",
       "    <tr>\n",
       "      <th>41581</th>\n",
       "      <td>2</td>\n",
       "      <td>0</td>\n",
       "      <td>0</td>\n",
       "      <td>3</td>\n",
       "      <td>0</td>\n",
       "      <td>45</td>\n",
       "      <td>2018</td>\n",
       "      <td>4</td>\n",
       "      <td>26</td>\n",
       "      <td>0</td>\n",
       "      <td>...</td>\n",
       "      <td>0.0</td>\n",
       "      <td>0.000000</td>\n",
       "      <td>0.0</td>\n",
       "      <td>0.0</td>\n",
       "      <td>0.0</td>\n",
       "      <td>0.0</td>\n",
       "      <td>0.0</td>\n",
       "      <td>0.0</td>\n",
       "      <td>0.0</td>\n",
       "      <td>1.0</td>\n",
       "    </tr>\n",
       "    <tr>\n",
       "      <th>41582</th>\n",
       "      <td>3</td>\n",
       "      <td>0</td>\n",
       "      <td>0</td>\n",
       "      <td>3</td>\n",
       "      <td>0</td>\n",
       "      <td>147</td>\n",
       "      <td>2018</td>\n",
       "      <td>9</td>\n",
       "      <td>18</td>\n",
       "      <td>0</td>\n",
       "      <td>...</td>\n",
       "      <td>0.0</td>\n",
       "      <td>1.000000</td>\n",
       "      <td>0.0</td>\n",
       "      <td>0.0</td>\n",
       "      <td>0.0</td>\n",
       "      <td>0.0</td>\n",
       "      <td>0.0</td>\n",
       "      <td>0.0</td>\n",
       "      <td>0.0</td>\n",
       "      <td>1.0</td>\n",
       "    </tr>\n",
       "    <tr>\n",
       "      <th>41583</th>\n",
       "      <td>2</td>\n",
       "      <td>0</td>\n",
       "      <td>1</td>\n",
       "      <td>2</td>\n",
       "      <td>0</td>\n",
       "      <td>32</td>\n",
       "      <td>2017</td>\n",
       "      <td>10</td>\n",
       "      <td>3</td>\n",
       "      <td>0</td>\n",
       "      <td>...</td>\n",
       "      <td>0.0</td>\n",
       "      <td>0.000000</td>\n",
       "      <td>0.0</td>\n",
       "      <td>0.0</td>\n",
       "      <td>0.0</td>\n",
       "      <td>0.0</td>\n",
       "      <td>0.0</td>\n",
       "      <td>0.0</td>\n",
       "      <td>0.0</td>\n",
       "      <td>1.0</td>\n",
       "    </tr>\n",
       "  </tbody>\n",
       "</table>\n",
       "<p>41584 rows × 26 columns</p>\n",
       "</div>"
      ],
      "text/plain": [
       "       no_of_adults  no_of_children  no_of_weekend_nights  no_of_week_nights  \\\n",
       "0                 2               0                     2                  2   \n",
       "1                 2               0                     0                  4   \n",
       "2                 2               0                     2                  2   \n",
       "3                 2               0                     2                  5   \n",
       "4                 2               1                     2                  0   \n",
       "...             ...             ...                   ...                ...   \n",
       "41579             2               0                     2                  0   \n",
       "41580             2               0                     1                  2   \n",
       "41581             2               0                     0                  3   \n",
       "41582             3               0                     0                  3   \n",
       "41583             2               0                     1                  2   \n",
       "\n",
       "       required_car_parking_space  lead_time  arrival_year  arrival_month  \\\n",
       "0                               0         38          2018              9   \n",
       "1                               0         62          2018              4   \n",
       "2                               0        134          2017             12   \n",
       "3                               0          6          2017              9   \n",
       "4                               0          9          2018              1   \n",
       "...                           ...        ...           ...            ...   \n",
       "41579                           0        386          2018             10   \n",
       "41580                           0         32          2018              7   \n",
       "41581                           0         45          2018              4   \n",
       "41582                           0        147          2018              9   \n",
       "41583                           0         32          2017             10   \n",
       "\n",
       "       arrival_date  repeated_guest  ...  room_type_reserved_Room_Type 3  \\\n",
       "0                10               0  ...                             0.0   \n",
       "1                 5               0  ...                             0.0   \n",
       "2                 4               0  ...                             0.0   \n",
       "3                20               0  ...                             0.0   \n",
       "4                17               0  ...                             0.0   \n",
       "...             ...             ...  ...                             ...   \n",
       "41579            23               0  ...                             0.0   \n",
       "41580            12               0  ...                             0.0   \n",
       "41581            26               0  ...                             0.0   \n",
       "41582            18               0  ...                             0.0   \n",
       "41583             3               0  ...                             0.0   \n",
       "\n",
       "       room_type_reserved_Room_Type 4  room_type_reserved_Room_Type 5  \\\n",
       "0                            0.000000                             0.0   \n",
       "1                            0.000000                             0.0   \n",
       "2                            0.000000                             0.0   \n",
       "3                            0.000000                             0.0   \n",
       "4                            0.000000                             0.0   \n",
       "...                               ...                             ...   \n",
       "41579                        0.000000                             0.0   \n",
       "41580                        0.492997                             0.0   \n",
       "41581                        0.000000                             0.0   \n",
       "41582                        1.000000                             0.0   \n",
       "41583                        0.000000                             0.0   \n",
       "\n",
       "       room_type_reserved_Room_Type 6  room_type_reserved_Room_Type 7  \\\n",
       "0                                 0.0                             0.0   \n",
       "1                                 0.0                             0.0   \n",
       "2                                 0.0                             0.0   \n",
       "3                                 0.0                             0.0   \n",
       "4                                 0.0                             0.0   \n",
       "...                               ...                             ...   \n",
       "41579                             0.0                             0.0   \n",
       "41580                             0.0                             0.0   \n",
       "41581                             0.0                             0.0   \n",
       "41582                             0.0                             0.0   \n",
       "41583                             0.0                             0.0   \n",
       "\n",
       "       market_segment_type_Aviation  market_segment_type_Complementary  \\\n",
       "0                               0.0                                0.0   \n",
       "1                               0.0                                0.0   \n",
       "2                               0.0                                0.0   \n",
       "3                               0.0                                0.0   \n",
       "4                               0.0                                0.0   \n",
       "...                             ...                                ...   \n",
       "41579                           0.0                                0.0   \n",
       "41580                           0.0                                0.0   \n",
       "41581                           0.0                                0.0   \n",
       "41582                           0.0                                0.0   \n",
       "41583                           0.0                                0.0   \n",
       "\n",
       "       market_segment_type_Corporate  market_segment_type_Offline  \\\n",
       "0                                0.0                          1.0   \n",
       "1                                0.0                          0.0   \n",
       "2                                0.0                          1.0   \n",
       "3                                0.0                          0.0   \n",
       "4                                0.0                          0.0   \n",
       "...                              ...                          ...   \n",
       "41579                            0.0                          1.0   \n",
       "41580                            0.0                          0.0   \n",
       "41581                            0.0                          0.0   \n",
       "41582                            0.0                          0.0   \n",
       "41583                            0.0                          0.0   \n",
       "\n",
       "       market_segment_type_Online  \n",
       "0                             0.0  \n",
       "1                             1.0  \n",
       "2                             0.0  \n",
       "3                             1.0  \n",
       "4                             1.0  \n",
       "...                           ...  \n",
       "41579                         0.0  \n",
       "41580                         1.0  \n",
       "41581                         1.0  \n",
       "41582                         1.0  \n",
       "41583                         1.0  \n",
       "\n",
       "[41584 rows x 26 columns]"
      ]
     },
     "execution_count": 59,
     "metadata": {},
     "output_type": "execute_result"
    }
   ],
   "source": [
    "train_data_osampled"
   ]
  },
  {
   "cell_type": "code",
   "execution_count": 60,
   "id": "bb89302f",
   "metadata": {},
   "outputs": [
    {
     "data": {
      "text/plain": [
       "0    Not_Canceled\n",
       "1    Not_Canceled\n",
       "2    Not_Canceled\n",
       "3    Not_Canceled\n",
       "4    Not_Canceled\n",
       "Name: booking_status, dtype: object"
      ]
     },
     "execution_count": 60,
     "metadata": {},
     "output_type": "execute_result"
    }
   ],
   "source": [
    "train_target_osampled.head()"
   ]
  },
  {
   "cell_type": "code",
   "execution_count": 61,
   "id": "b9da61f3",
   "metadata": {},
   "outputs": [],
   "source": [
    "# Standardization of the values\n",
    "scaler = StandardScaler()\n",
    "train_data_osampled = scaler.fit_transform(train_data_osampled)\n",
    "test_data_osampled = scaler.transform(test_data)\n",
    "val_data_osampled = scaler.transform(val_data)"
   ]
  },
  {
   "cell_type": "markdown",
   "id": "14a418e3",
   "metadata": {},
   "source": [
    "The first line of code, scaler = StandardScaler(), creates a new object of the StandardScaler class. \n",
    "\n",
    "The StandardScaler class is a class from the sklearn.preprocessing library. It is used to standardize the values in a dataset. \n",
    "\n",
    "Standardization is a process of transforming the values in a dataset so that they have a mean of 0 and a standard deviation of 1. This makes the values in the dataset more comparable to each other.\n",
    "\n",
    "**train_data_osampled = scaler.fit_transform(train_data_osampled), val_data_osampled = scaler.transform(val_data), and test_data = scaler.transform(test_data)**, use the StandardScaler object to standardize the values in the **train_data_osampled, test_data, and unseen_data datasets.**\n",
    "\n",
    "The **fit_transform()** method is used to fit the StandardScaler object to the **train_data_osampled** dataset. This means that the StandardScaler object will learn the mean and standard deviation of the values in the **train_data_osampled** dataset.\n",
    "\n",
    "The **transform()** method is then used to standardize the values in the test_data and unseen_data datasets. This is done by subtracting the mean of the train_data_osampled dataset from the values in the test_data and unseen_data datasets, and then dividing the values by the standard deviation of the train_data_osampled dataset.\n",
    "\n",
    "In summary, Standardization of the values standardizes the values in the train_data_osampled, test_data, and unseen_data datasets. This makes the values in the datasets more comparable to each other, which can improve the performance of machine learning models."
   ]
  },
  {
   "cell_type": "code",
   "execution_count": 62,
   "id": "daeb2efa",
   "metadata": {},
   "outputs": [
    {
     "data": {
      "text/plain": [
       "array([[ 0.32395106, -0.25203541,  1.44803106, ..., -0.22348259,\n",
       "         1.58755994, -1.38903958],\n",
       "       [ 0.32395106, -0.25203541, -0.9082102 , ..., -0.22348259,\n",
       "        -0.63928696,  0.73214638],\n",
       "       [ 0.32395106, -0.25203541,  1.44803106, ..., -0.22348259,\n",
       "         1.58755994, -1.38903958],\n",
       "       ...,\n",
       "       [ 0.32395106, -0.25203541, -0.9082102 , ..., -0.22348259,\n",
       "        -0.63928696,  0.73214638],\n",
       "       [ 2.30093678, -0.25203541, -0.9082102 , ..., -0.22348259,\n",
       "        -0.63928696,  0.73214638],\n",
       "       [ 0.32395106, -0.25203541,  0.26991043, ..., -0.22348259,\n",
       "        -0.63928696,  0.73214638]])"
      ]
     },
     "execution_count": 62,
     "metadata": {},
     "output_type": "execute_result"
    }
   ],
   "source": [
    "train_data_osampled"
   ]
  },
  {
   "cell_type": "code",
   "execution_count": 63,
   "id": "16ed0853",
   "metadata": {},
   "outputs": [
    {
     "data": {
      "text/plain": [
       "array([[-1.65303467, -0.25203541,  0.26991043, ..., -0.22348259,\n",
       "        -0.63928696, -1.38903958],\n",
       "       [-1.65303467, -0.25203541,  0.26991043, ..., -0.22348259,\n",
       "         1.58755994, -1.38903958],\n",
       "       [-1.65303467, -0.25203541, -0.9082102 , ..., -0.22348259,\n",
       "        -0.63928696,  0.73214638],\n",
       "       ...,\n",
       "       [ 0.32395106, -0.25203541,  1.44803106, ..., -0.22348259,\n",
       "        -0.63928696,  0.73214638],\n",
       "       [ 0.32395106, -0.25203541,  0.26991043, ..., -0.22348259,\n",
       "        -0.63928696,  0.73214638],\n",
       "       [ 0.32395106, -0.25203541, -0.9082102 , ..., -0.22348259,\n",
       "        -0.63928696,  0.73214638]])"
      ]
     },
     "execution_count": 63,
     "metadata": {},
     "output_type": "execute_result"
    }
   ],
   "source": [
    "test_data_osampled"
   ]
  },
  {
   "cell_type": "code",
   "execution_count": 64,
   "id": "60fed455",
   "metadata": {},
   "outputs": [
    {
     "data": {
      "text/plain": [
       "array([[-1.65303467, -0.25203541,  0.26991043, ...,  4.55293698,\n",
       "        -0.63928696, -1.38903958],\n",
       "       [ 0.32395106, -0.25203541,  1.44803106, ..., -0.22348259,\n",
       "        -0.63928696,  0.73214638],\n",
       "       [ 0.32395106, -0.25203541,  1.44803106, ..., -0.22348259,\n",
       "        -0.63928696,  0.73214638],\n",
       "       ...,\n",
       "       [ 0.32395106, -0.25203541,  0.26991043, ..., -0.22348259,\n",
       "         1.58755994, -1.38903958],\n",
       "       [ 0.32395106, -0.25203541,  0.26991043, ..., -0.22348259,\n",
       "        -0.63928696,  0.73214638],\n",
       "       [-1.65303467, -0.25203541,  1.44803106, ..., -0.22348259,\n",
       "         1.58755994, -1.38903958]])"
      ]
     },
     "execution_count": 64,
     "metadata": {},
     "output_type": "execute_result"
    }
   ],
   "source": [
    "val_data_osampled"
   ]
  },
  {
   "cell_type": "markdown",
   "id": "45d5f210",
   "metadata": {},
   "source": [
    "## Machine Learning Algorithms"
   ]
  },
  {
   "cell_type": "markdown",
   "id": "f15c67e0",
   "metadata": {},
   "source": [
    "### Logistic Regression\n",
    "\n",
    "Logistic regression is a statistical model that is used for binary classification. It is a type of regression model, but instead of predicting a continuous value, it predicts a probability.\n",
    "\n",
    "Logistic regression works by fitting a logistic function to the data. The logistic function is a sigmoid function that takes a real number as input and outputs a probability between 0 and 1.\n",
    "\n",
    "Logistic regression is a simple but effective classifier. It is often used as a baseline classifier for other machine learning algorithms."
   ]
  },
  {
   "cell_type": "code",
   "execution_count": 65,
   "id": "15cf640f",
   "metadata": {},
   "outputs": [
    {
     "name": "stdout",
     "output_type": "stream",
     "text": [
      "Logistic Regression Classifier:\n",
      "Training Accuracy: 0.7935504040015391\n",
      "Validation Accuracy: 0.7815299793246038\n",
      "Confusion Matrix:\n",
      " [[1090  374]\n",
      " [ 577 2312]]\n",
      "              precision    recall  f1-score   support\n",
      "\n",
      "    Canceled       0.65      0.74      0.70      1464\n",
      "Not_Canceled       0.86      0.80      0.83      2889\n",
      "\n",
      "    accuracy                           0.78      4353\n",
      "   macro avg       0.76      0.77      0.76      4353\n",
      "weighted avg       0.79      0.78      0.78      4353\n",
      "\n"
     ]
    }
   ],
   "source": [
    "from sklearn.metrics import classification_report\n",
    "# Logistic Regression\n",
    "logistic_regression = LogisticRegression()\n",
    "\n",
    "# Train the Logistic Regression classifier\n",
    "logistic_regression.fit(train_data_osampled, train_target_osampled)\n",
    "\n",
    "# Make predictions on the train and test data\n",
    "logistic_regression_train_pred = logistic_regression.predict(train_data_osampled)\n",
    "logistic_regression_test_pred = logistic_regression.predict(val_data_osampled)\n",
    "\n",
    "# Print performance metrics for Logistic Regression\n",
    "print('Logistic Regression Classifier:')\n",
    "print('Training Accuracy:', accuracy_score(train_target_osampled, logistic_regression_train_pred))\n",
    "print('Validation Accuracy:', accuracy_score(val_target, logistic_regression_test_pred))\n",
    "print('Confusion Matrix:\\n', confusion_matrix(val_target, logistic_regression_test_pred))\n",
    "\n",
    "Log_report = classification_report(val_target, logistic_regression_test_pred)\n",
    "print(Log_report)"
   ]
  },
  {
   "cell_type": "code",
   "execution_count": 66,
   "id": "d05dc9dd",
   "metadata": {},
   "outputs": [
    {
     "name": "stdout",
     "output_type": "stream",
     "text": [
      "Unseen Test Data Accuracy: 0.7768595041322314\n"
     ]
    }
   ],
   "source": [
    "# Use the trained model to make predictions on the unseen data\n",
    "unseen_pred = logistic_regression.predict(test_data_osampled)\n",
    "print('Unseen Test Data Accuracy:', accuracy_score(test_target, unseen_pred))"
   ]
  },
  {
   "cell_type": "markdown",
   "id": "ed67f951",
   "metadata": {},
   "source": [
    "### K-Nearest Neighbors (KNN)\n",
    "The k-nearest neighbors algorithm, also known as KNN or k-NN, is a non-parametric, supervised learning classifier, which uses proximity to make classifications or predictions about the grouping of an individual data point.\n",
    "\n",
    "**weights :** This parameter controls how the distances to the neighbors are weighted.\n",
    "> The **uniform** weighting scheme weights all neighbors equally.<br>\n",
    "> the distance weighting scheme weights neighbors closer to the point more heavily.<br><br>\n",
    "\n",
    "**algorithm :** This parameter controls the algorithm used to find the nearest neighbors.<br><br>\n",
    "> The **ball_tree** algorithm is a fast algorithm that is good for dense datasets.<br>\n",
    "> The **kd_tree** algorithm is a more general-purpose algorithm.<br>\n",
    "> The **brute** algorithm is a simple algorithm that is good for small datasets.<br>\n",
    "\n",
    "<br>\n",
    "\n",
    "1) https://www.analyticsvidhya.com/blog/2018/03/introduction-k-neighbours-algorithm-clustering/<br><br>\n",
    "\n",
    "2) https://scikit-learn.org/stable/modules/generated/sklearn.neighbors.KNeighborsClassifier.html<br><br>\n",
    "\n",
    "3) https://ieeexplore.ieee.org/document/9065747<br><br>\n",
    "\n",
    "4) https://ieeexplore.ieee.org/document/549118<br>\n",
    "\n"
   ]
  },
  {
   "cell_type": "code",
   "execution_count": 67,
   "id": "206881a9",
   "metadata": {},
   "outputs": [
    {
     "name": "stdout",
     "output_type": "stream",
     "text": [
      "Fitting 5 folds for each of 30 candidates, totalling 150 fits\n",
      "Best Parameters: {'algorithm': 'brute', 'n_neighbors': 11, 'weights': 'distance'}\n"
     ]
    }
   ],
   "source": [
    "\n",
    "\n",
    "# Define the parameter grid\n",
    "param_grid = {\n",
    "    'n_neighbors': [3, 5, 7, 9, 11 ],\n",
    "    'weights': ['uniform', 'distance'],\n",
    "    'algorithm': ['ball_tree', 'kd_tree', 'brute']\n",
    "}\n",
    "\n",
    "# Create a KNN classifier\n",
    "knn = KNeighborsClassifier()\n",
    "\n",
    "# Perform grid search to find the best parameters\n",
    "grid_search = GridSearchCV(estimator=knn, param_grid=param_grid, scoring='accuracy', cv=5, n_jobs=-1, verbose=1)\n",
    "grid_search.fit(train_data_osampled, train_target_osampled)\n",
    "best_params = grid_search.best_params_\n",
    "\n",
    "print(\"Best Parameters:\", best_params)"
   ]
  },
  {
   "cell_type": "code",
   "execution_count": 68,
   "id": "df45eace",
   "metadata": {},
   "outputs": [
    {
     "name": "stdout",
     "output_type": "stream",
     "text": [
      "K-Nearest Neighbors Classifier:\n",
      "Training Accuracy: 0.9938918814928819\n",
      "Validation Accuracy: 0.8672180105674248\n",
      "Confusion Matrix:\n",
      " [[1198  266]\n",
      " [ 312 2577]]\n"
     ]
    }
   ],
   "source": [
    "\n",
    "# Create KNN classifier with best parameters\n",
    "knn_clf = KNeighborsClassifier(**best_params)\n",
    "\n",
    "# Train the KNN classifier\n",
    "knn_clf.fit(train_data_osampled, train_target_osampled)\n",
    "\n",
    "# Make predictions on the train and test data\n",
    "train_pred = knn_clf.predict(train_data_osampled)\n",
    "val_pred = knn_clf.predict(val_data_osampled)\n",
    "\n",
    "# Print performance metrics\n",
    "print('K-Nearest Neighbors Classifier:')\n",
    "print('Training Accuracy:', accuracy_score(train_target_osampled, train_pred))\n",
    "print('Validation Accuracy:', accuracy_score(val_target, val_pred))\n",
    "print('Confusion Matrix:\\n', confusion_matrix(val_target, val_pred))\n"
   ]
  },
  {
   "cell_type": "code",
   "execution_count": 80,
   "id": "9395098a",
   "metadata": {},
   "outputs": [
    {
     "name": "stdout",
     "output_type": "stream",
     "text": [
      "              precision    recall  f1-score   support\n",
      "\n",
      "    Canceled       0.80      0.82      0.81      1464\n",
      "Not_Canceled       0.91      0.90      0.90      2889\n",
      "\n",
      "    accuracy                           0.87      4353\n",
      "   macro avg       0.85      0.86      0.86      4353\n",
      "weighted avg       0.87      0.87      0.87      4353\n",
      "\n"
     ]
    }
   ],
   "source": [
    "knn_report = classification_report(val_target, val_pred)\n",
    "print(knn_report)"
   ]
  },
  {
   "cell_type": "code",
   "execution_count": 81,
   "id": "155d448c",
   "metadata": {},
   "outputs": [
    {
     "name": "stdout",
     "output_type": "stream",
     "text": [
      "Unseen Test Data Accuracy: 0.8787878787878788\n"
     ]
    }
   ],
   "source": [
    "# Use the trained model to make predictions on the unseen data\n",
    "unseen_pred = knn_clf.predict(test_data_osampled)\n",
    "print('Unseen Test Data Accuracy:', accuracy_score(test_target, unseen_pred))"
   ]
  },
  {
   "cell_type": "markdown",
   "id": "3e9c8657",
   "metadata": {},
   "source": [
    "### Decision Tree\n",
    "\n",
    "Decision tree algorithms are a type of supervised machine learning algorithm that can be used to make predictions based on a set of features. The decision tree algorithm works by creating a tree-like structure that represents the relationships between the features and the target variable. The tree-like structure is created by recursively splitting the data into smaller and smaller subsets based on the values of the features. The decision tree algorithm then uses the tree-like structure to make predictions for new data.\n",
    "\n",
    "1) https://scikit-learn.org/stable/modules/tree.html <br>\n",
    "<br>\n",
    "2) https://www.analyticsvidhya.com/blog/2021/08/decision-tree-algorithm/#:~:text=A%20decision%20tree%20algorithm%20is,each%20node%20of%20the%20tree. <br><br>\n",
    "\n",
    "3) https://doi.org/10.1109/ICSGRC.2011.5991826 <br><br>\n",
    "\n",
    "4) https://ieeexplore.ieee.org/document/9918857<br><br>\n",
    "\n",
    "5) https://towardsdatascience.com/decision-trees-explained-entropy-information-gain-gini-index-ccp-pruning-4d78070db36c#:~:text=The%20Entropy%20and%20Information%20Gain,lower%20the%20likelihood%20of%20misclassification."
   ]
  },
  {
   "cell_type": "code",
   "execution_count": 82,
   "id": "dbda2638",
   "metadata": {},
   "outputs": [
    {
     "name": "stdout",
     "output_type": "stream",
     "text": [
      "Fitting 5 folds for each of 72 candidates, totalling 360 fits\n"
     ]
    }
   ],
   "source": [
    "dt_params = {\n",
    "    'criterion': ['gini', 'entropy'],\n",
    "    'max_depth': [None, 5, 10, 15],\n",
    "    'min_samples_split': [2, 5, 10],\n",
    "    'min_samples_leaf': [1, 2, 5]\n",
    "}\n",
    "\n",
    "dt_clf = DecisionTreeClassifier(random_state=42)\n",
    "dt_grid_search = GridSearchCV(dt_clf, dt_params, cv=5, n_jobs=-1, verbose=3)\n",
    "dt_grid_search.fit(train_data_osampled, train_target_osampled)\n",
    "dt_best_params = dt_grid_search.best_params_"
   ]
  },
  {
   "cell_type": "markdown",
   "id": "0be98cdf",
   "metadata": {},
   "source": [
    "The code first defines a dictionary of hyperparameters for the decision tree classifier. The hyperparameters are:\n",
    "\n",
    "**criterion:** The splitting criterion to use. The options are \"gini\" and \"entropy\".<br>\n",
    "**max_depth:** The maximum depth of the decision tree.<br>\n",
    "**min_samples_split:** The minimum number of samples required to split an internal node.<br>\n",
    "**min_samples_leaf:** The minimum number of samples required to be at a leaf node.<br>\n",
    "\n",
    "**Note:** These parameters are considered randomly based on work of other people through google and limited to max 3 values in each parameter considering the Laptop configuration and processing time.\n",
    "\n",
    "The code then creates a **Decision Tree Classifier** object and a grid search object. \n",
    "\n",
    "The **GridSearchCV** object will be used to find the best hyperparameters for the decision tree classifier.\n",
    "\n",
    "The **cv** parameter specifies the number of folds to use for cross-validation.\n",
    "\n",
    "The **n_jobs** parameter specifies the number of cores to use for parallel processing. \n",
    "\n",
    "The **verbose** parameter specifies the verbosity level. The verbosity level is a parameter that controls how much information is printed out during the grid search process. \n",
    "\n",
    "The value of 1 means that the grid search object will print out information about the progress of the grid search.\n",
    "The value of 0 means that the grid search object will not print out any information.\n",
    "The value of 2 means that the Detailed information about the progress of the grid search is printed.\n",
    "The value of 3 means that the Debug information about the progress of the grid search is printed.\n",
    "\n",
    "The code then fits the grid search object i.e. **dt_grid_search** to the train_data_osampled and train_target_osampled datasets. This will find the best hyperparameters for the decision tree classifier. \n",
    "\n",
    "The best hyperparameters are stored in the **dt_best_params** variable."
   ]
  },
  {
   "cell_type": "code",
   "execution_count": 83,
   "id": "a4c035b2",
   "metadata": {},
   "outputs": [
    {
     "data": {
      "text/plain": [
       "{'criterion': 'entropy',\n",
       " 'max_depth': None,\n",
       " 'min_samples_leaf': 1,\n",
       " 'min_samples_split': 2}"
      ]
     },
     "execution_count": 83,
     "metadata": {},
     "output_type": "execute_result"
    }
   ],
   "source": [
    "dt_best_params"
   ]
  },
  {
   "cell_type": "code",
   "execution_count": 84,
   "id": "fafe4bb6",
   "metadata": {},
   "outputs": [
    {
     "name": "stdout",
     "output_type": "stream",
     "text": [
      "Decision Tree Classifier:\n",
      "Training Accuracy: 0.9946854559445941\n",
      "Validation Accuracy: 0.8708936365724788\n",
      "Confusion Matrix:\n",
      " [[1202  262]\n",
      " [ 300 2589]]\n"
     ]
    }
   ],
   "source": [
    "# Train decision tree classifier with best parameters and measure performance\n",
    "dt_clf = DecisionTreeClassifier(**dt_best_params, random_state=42)\n",
    "dt_clf.fit(train_data_osampled, train_target_osampled)\n",
    "train_pred = dt_clf.predict(train_data_osampled)\n",
    "val_pred = dt_clf.predict(val_data_osampled)\n",
    "print('Decision Tree Classifier:')\n",
    "print('Training Accuracy:', accuracy_score(train_target_osampled, train_pred))\n",
    "print('Validation Accuracy:', accuracy_score(val_target, val_pred))\n",
    "print('Confusion Matrix:\\n', confusion_matrix(val_target, val_pred))"
   ]
  },
  {
   "cell_type": "code",
   "execution_count": 86,
   "id": "f3343ab9",
   "metadata": {},
   "outputs": [
    {
     "name": "stdout",
     "output_type": "stream",
     "text": [
      "              precision    recall  f1-score   support\n",
      "\n",
      "    Canceled       0.80      0.82      0.81      1464\n",
      "Not_Canceled       0.91      0.90      0.90      2889\n",
      "\n",
      "    accuracy                           0.87      4353\n",
      "   macro avg       0.85      0.86      0.86      4353\n",
      "weighted avg       0.87      0.87      0.87      4353\n",
      "\n"
     ]
    }
   ],
   "source": [
    "dt_report = classification_report(val_target, val_pred)\n",
    "print(dt_report)"
   ]
  },
  {
   "cell_type": "code",
   "execution_count": 87,
   "id": "5e998feb",
   "metadata": {},
   "outputs": [
    {
     "name": "stdout",
     "output_type": "stream",
     "text": [
      "Unseen Test Data Accuracy: 0.8833792470156107\n"
     ]
    }
   ],
   "source": [
    "# Use the trained model to make predictions on the unseen data\n",
    "unseen_pred = dt_clf.predict(test_data_osampled)\n",
    "print('Unseen Test Data Accuracy:', accuracy_score(test_target, unseen_pred))"
   ]
  },
  {
   "cell_type": "markdown",
   "id": "46bfe6a8",
   "metadata": {},
   "source": [
    "The code first creates a decision tree classifier object with the best hyperparameters that were found using grid search. The ****dt_best_params syntax** is used to pass the dictionary of hyperparameters to the decision tree classifier object.\n",
    "\n",
    "The code then fits the decision tree classifier object to the train_data_osampled and train_target_osampled datasets. This will train the decision tree classifier model.\n",
    "\n",
    "**DecisionTreeClassifier():** This function creates a decision tree classifier object. A decision tree classifier is a machine learning model that can be used to make predictions based on a set of features. The decision tree classifier works by creating a tree-like structure that represents the relationships between the features and the target variable.\n",
    "\n",
    "**fit():** This function trains a decision tree classifier model. The fit() function takes the training data and the target variable as input, and it uses this information to create the tree-like structure.\n",
    "\n",
    "\n",
    "The code then makes predictions on the train_data_osampled and test_data datasets. The predictions are stored in the train_pred and test_pred variables.\n",
    "\n",
    "\n",
    "**predict():** This function makes predictions on a new dataset. The predict() function takes the new dataset as input, and it uses the tree-like structure to make predictions for each of the samples in the dataset.\n",
    "\n",
    "The code then prints the train accuracy, test accuracy, and confusion matrix for the decision tree classifier model.\n",
    "\n",
    "**accuracy_score():** This function calculates the accuracy of a model. The accuracy score is the percentage of samples that were correctly predicted by the model.\n",
    "\n",
    "**confusion_matrix():** This function calculates the confusion matrix for a model. The confusion matrix is a table that shows the number of samples that were correctly predicted by the model, the number of samples that were incorrectly predicted by the model, and the number of samples that were not predicted by the model."
   ]
  },
  {
   "cell_type": "markdown",
   "id": "75571b05",
   "metadata": {},
   "source": []
  },
  {
   "cell_type": "markdown",
   "id": "0371ad04",
   "metadata": {},
   "source": [
    "### Random Forest\n",
    "\n",
    "Random forest is a supervised machine learning algorithm that is used for classification and regression tasks. It is a meta-estimator that combines multiple decision trees to make predictions.\n",
    "\n",
    "The random forest algorithm works by building a number of decision trees on different sub-samples of the training data. Each decision tree is built using a random subset of the features. This helps to prevent the decision trees from becoming too correlated and overfitting the training data.\n",
    "\n",
    "The predictions of the random forest algorithm are made by aggregating the predictions of the individual decision trees. The aggregation method is typically majority voting for classification tasks and averaging for regression tasks.\n",
    "\n",
    "Random forests are a powerful machine learning algorithm that can be used to solve a wide variety of problems. They are relatively easy to understand and interpret, and they are often very accurate.\n",
    "\n",
    "1) https://ieeexplore.ieee.org/abstract/document/8122151 <br><br>\n",
    "\n",
    "2) https://ieeexplore.ieee.org/document/598994<br><br>\n",
    "\n",
    "3) https://ieeexplore.ieee.org/document/9152236<br><br>\n",
    "\n",
    "4) https://ieeexplore.ieee.org/document/8074494<br><br>\n",
    "\n",
    "5) https://scikit-learn.org/stable/modules/generated/sklearn.ensemble.RandomForestClassifier.html<br><br>\n",
    "\n",
    "6) https://www.stat.berkeley.edu/~breiman/RandomForests/cc_home.htm<br><br>\n",
    "\n",
    "7) https://machinelearningmastery.com/random-forest-ensemble-in-python/<br><br>\n",
    "\n",
    "8) https://www.analyticsvidhya.com/blog/2021/06/understanding-random-forest/<br><br>\n",
    "\n"
   ]
  },
  {
   "cell_type": "code",
   "execution_count": 89,
   "id": "04cdea12",
   "metadata": {},
   "outputs": [
    {
     "name": "stdout",
     "output_type": "stream",
     "text": [
      "Fitting 5 folds for each of 216 candidates, totalling 1080 fits\n"
     ]
    }
   ],
   "source": [
    "rf_params = {\n",
    "    'n_estimators': [100, 300, 500],\n",
    "    #n_estimators : This is the number of trees you want to build before taking the maximum voting or averages of predictions. \n",
    "    #Higher number of trees give you better performance but makes your code slower.\n",
    "    'criterion': ['gini', 'entropy'],\n",
    "    'max_depth': [None, 5, 10, 15],\n",
    "    'min_samples_split': [2, 5, 10],\n",
    "    'min_samples_leaf': [1, 2, 5]\n",
    "}\n",
    "rf_clf = RandomForestClassifier(random_state=42)\n",
    "rf_grid_search = GridSearchCV(rf_clf, rf_params, cv=5, n_jobs=-1, verbose=1)\n",
    "rf_grid_search.fit(train_data_osampled, train_target_osampled)\n",
    "rf_best_params = rf_grid_search.best_params_"
   ]
  },
  {
   "cell_type": "markdown",
   "id": "b58941a7",
   "metadata": {},
   "source": [
    "The code first defines a dictionary of hyperparameters for the random forest classifier. The hyperparameters are:\n",
    "\n",
    "**n_estimators:** The number of trees in the random forest.\n",
    "\n",
    "**criterion:** The splitting criterion to use. The options are \"gini\" and \"entropy\".\n",
    "\n",
    "**max_depth:** The maximum depth of the trees in the random forest.\n",
    "\n",
    "**min_samples_split:** The minimum number of samples required to split an internal node.\n",
    "\n",
    "**min_samples_leaf:** The minimum number of samples required to be at a leaf node.\n",
    "\n",
    "**RandomForestClassifier():** This function is used to create a random forest classifier object.\n",
    "\n",
    "Remaining things are same as discussed above for Decision Tree"
   ]
  },
  {
   "cell_type": "code",
   "execution_count": 90,
   "id": "283b16be",
   "metadata": {},
   "outputs": [
    {
     "name": "stdout",
     "output_type": "stream",
     "text": [
      "Random Forest Classifier:\n",
      "Train Accuracy: 0.9946854559445941\n",
      "Test Accuracy: 0.9055823569951758\n",
      "Confusion Matrix:\n",
      " [[1239  225]\n",
      " [ 186 2703]]\n"
     ]
    }
   ],
   "source": [
    "# Train random forest classifier with best parameters and measure performance\n",
    "rf_clf = RandomForestClassifier(**rf_best_params, random_state=42)\n",
    "rf_clf.fit(train_data_osampled, train_target_osampled)\n",
    "train_pred = rf_clf.predict(train_data_osampled)\n",
    "val_pred = rf_clf.predict(val_data_osampled)\n",
    "print('Random Forest Classifier:')\n",
    "print('Train Accuracy:', accuracy_score(train_target_osampled, train_pred))\n",
    "print('Test Accuracy:', accuracy_score(val_target, val_pred))\n",
    "print('Confusion Matrix:\\n', confusion_matrix(val_target, val_pred))"
   ]
  },
  {
   "cell_type": "code",
   "execution_count": 91,
   "id": "42c73da7",
   "metadata": {},
   "outputs": [
    {
     "name": "stdout",
     "output_type": "stream",
     "text": [
      "              precision    recall  f1-score   support\n",
      "\n",
      "    Canceled       0.87      0.85      0.86      1464\n",
      "Not_Canceled       0.92      0.94      0.93      2889\n",
      "\n",
      "    accuracy                           0.91      4353\n",
      "   macro avg       0.90      0.89      0.89      4353\n",
      "weighted avg       0.91      0.91      0.91      4353\n",
      "\n"
     ]
    }
   ],
   "source": [
    "rf_report = classification_report(val_target, val_pred)\n",
    "print(rf_report)"
   ]
  },
  {
   "cell_type": "markdown",
   "id": "b05f0b75",
   "metadata": {},
   "source": [
    "Random Forest with Oversampled data has achieved 99.4% on Training Data and 90.3% on Testing Data."
   ]
  },
  {
   "cell_type": "code",
   "execution_count": 92,
   "id": "f6bfa3b7",
   "metadata": {},
   "outputs": [
    {
     "name": "stdout",
     "output_type": "stream",
     "text": [
      "Unseen Test Data Accuracy: 0.8999081726354453\n"
     ]
    }
   ],
   "source": [
    "# Use the trained model to make predictions on the unseen data\n",
    "unseen_pred = rf_clf.predict(test_data_osampled)\n",
    "print('Unseen Test Data Accuracy:', accuracy_score(test_target, unseen_pred))"
   ]
  },
  {
   "cell_type": "markdown",
   "id": "47f870d1",
   "metadata": {},
   "source": [
    "**Feature Importances**\n",
    "\n",
    "Feature importance in random forest is a measure of how important each feature is in the model. It is calculated by measuring the decrease in the impurity of the trees in the forest when a particular feature is excluded.\n",
    "\n",
    "The impurity of a tree is a measure of how mixed up the classes are in the tree. A tree with high impurity is a tree where the classes are very mixed up, and a tree with low impurity is a tree where the classes are very separated.\n",
    "\n",
    "When a feature is excluded from a tree, the impurity of the tree will increase. The increase in impurity is a measure of how much the feature is helping to separate the classes.\n",
    "\n",
    "The feature importance of a feature is the average increase in impurity across all the trees in the forest.\n",
    "\n",
    "Feature importance can be used to select the most important features for a model. The features with the highest feature importance are the features that are most important for the model to make predictions."
   ]
  },
  {
   "cell_type": "code",
   "execution_count": 93,
   "id": "0313d83d",
   "metadata": {},
   "outputs": [
    {
     "data": {
      "image/png": "[encoded data removed]",
      "text/plain": [
       "<Figure size 640x480 with 1 Axes>"
      ]
     },
     "metadata": {},
     "output_type": "display_data"
    }
   ],
   "source": [
    "# Plot feature importances for the random forest classifier\n",
    "feat_importances = pd.Series(rf_clf.feature_importances_, index=data_encoded.columns[:-1])\n",
    "feat_importances.nlargest(10).plot(kind='barh')\n",
    "plt.title('Feature Importances')\n",
    "plt.show()"
   ]
  },
  {
   "cell_type": "markdown",
   "id": "8bdd9d17",
   "metadata": {},
   "source": [
    "The above analysis For the Research Question 4 is answered with the above image. It dispalyed that Average_Price_per_room and Lead_time are  most important features."
   ]
  },
  {
   "cell_type": "code",
   "execution_count": null,
   "id": "8646d768",
   "metadata": {},
   "outputs": [],
   "source": []
  },
  {
   "cell_type": "markdown",
   "id": "b236e1c6",
   "metadata": {},
   "source": [
    "# UNDERSAMPLING"
   ]
  },
  {
   "cell_type": "code",
   "execution_count": 94,
   "id": "72d447a3",
   "metadata": {},
   "outputs": [],
   "source": [
    "# These will be used for Undersampling later.\n",
    "\n",
    "train_data_us = train_data\n",
    "test_data_us = test_data\n",
    "val_data_us = val_data\n",
    "val_target_us = val_target\n",
    "train_target_us = train_target\n",
    "test_target_us = test_target\n",
    "\n",
    "#unseen_data_us = unseen_data"
   ]
  },
  {
   "cell_type": "code",
   "execution_count": 95,
   "id": "5e058b8d",
   "metadata": {},
   "outputs": [],
   "source": [
    "# variable copies for undersampling\n",
    "under_train_data = train_data_us\n",
    "under_train_target = train_target_us\n",
    "under_val_data = val_data_us\n",
    "under_val_target = val_target_us\n",
    "under_test_data = test_data_us\n",
    "under_test_target = test_target_us"
   ]
  },
  {
   "cell_type": "code",
   "execution_count": 96,
   "id": "8cc28dde",
   "metadata": {},
   "outputs": [
    {
     "name": "stdout",
     "output_type": "stream",
     "text": [
      "(20082, 26)\n",
      "(20082,)\n"
     ]
    }
   ],
   "source": [
    "import random #The random module is used to generate random numbers.\n",
    "from imblearn.under_sampling import RandomUnderSampler #The RandomUnderSampler class is a class that implements random undersampling\n",
    "\n",
    "def undersample(train_data, train_target):# line of code defines the undersample() function\n",
    "    rus = RandomUnderSampler(random_state=0) #line of code creates an instance of the RandomUnderSampler class.\n",
    "    #The random_state parameter is set to 0 to ensure that the results are reproducible.\n",
    "    train_data_resampled, train_target_resampled = rus.fit_resample(train_data, train_target)\n",
    "    # calls the fit_resample() method on the RandomUnderSampler instance.\n",
    "    # The fit_resample() method undersamples the train_data and train_target datasets.\n",
    "\n",
    "    return train_data_resampled, train_target_resampled\n",
    "\n",
    "train_data_usampled, train_target_usampled = undersample(under_train_data, under_train_target)\n",
    "#calls the undersample() function on the under_train_data and under_train_target datasets.\n",
    "\n",
    "print(train_data_usampled.shape)\n",
    "print(train_target_usampled.shape)"
   ]
  },
  {
   "cell_type": "code",
   "execution_count": 97,
   "id": "6bcf1a0e",
   "metadata": {},
   "outputs": [
    {
     "name": "stdout",
     "output_type": "stream",
     "text": [
      "train_data_usampled.shape:  (20082, 26)\n",
      "train_target_usampled.shape:  (20082,)\n",
      "under_val_data:  (4353, 26)\n",
      "under_val_target:  (4353,)\n",
      "under_test_data:  (1089, 26)\n",
      "under_test_target:  (1089,)\n"
     ]
    }
   ],
   "source": [
    "print(\"train_data_usampled.shape: \",train_data_usampled.shape)\n",
    "print(\"train_target_usampled.shape: \",train_target_usampled.shape)\n",
    "print(\"under_val_data: \",under_val_data.shape)\n",
    "print(\"under_val_target: \",under_val_target.shape)\n",
    "print(\"under_test_data: \",under_test_data.shape)\n",
    "print(\"under_test_target: \",under_test_target.shape)"
   ]
  },
  {
   "cell_type": "code",
   "execution_count": 98,
   "id": "aedc977d",
   "metadata": {},
   "outputs": [
    {
     "data": {
      "text/plain": [
       "Canceled        10041\n",
       "Not_Canceled    10041\n",
       "Name: booking_status, dtype: int64"
      ]
     },
     "execution_count": 98,
     "metadata": {},
     "output_type": "execute_result"
    }
   ],
   "source": [
    "train_target_usampled.value_counts()"
   ]
  },
  {
   "cell_type": "markdown",
   "id": "09fa6ac0",
   "metadata": {},
   "source": [
    "### Standardization of Undersampled Data"
   ]
  },
  {
   "cell_type": "code",
   "execution_count": 99,
   "id": "5b539149",
   "metadata": {},
   "outputs": [],
   "source": [
    "scaler = StandardScaler()\n",
    "train_data_usampled_scaled = scaler.fit_transform(train_data_usampled)\n",
    "val_data_scaled = scaler.transform(under_val_data)\n",
    "test_data_scaled = scaler.transform(under_test_data)"
   ]
  },
  {
   "cell_type": "markdown",
   "id": "3241b3c5",
   "metadata": {},
   "source": [
    "### Logistic Regression on Undersampled Data"
   ]
  },
  {
   "cell_type": "code",
   "execution_count": 100,
   "id": "b2058b5c",
   "metadata": {},
   "outputs": [
    {
     "name": "stdout",
     "output_type": "stream",
     "text": [
      "Logistic Regression Classifier:\n",
      "Train Accuracy: 0.7779105666766258\n",
      "Test Accuracy: 0.7792327130714449\n",
      "Confusion Matrix:\n",
      " [[1107  357]\n",
      " [ 604 2285]]\n"
     ]
    }
   ],
   "source": [
    "# Logistic Regression\n",
    "logistic_regression = LogisticRegression()\n",
    "\n",
    "# Train the Logistic Regression classifier\n",
    "logistic_regression.fit(train_data_usampled_scaled, train_target_usampled)\n",
    "\n",
    "# Make predictions on the train and test data\n",
    "logistic_regression_train_pred = logistic_regression.predict(train_data_usampled_scaled)\n",
    "logistic_regression_val_pred = logistic_regression.predict(val_data_scaled)\n",
    "\n",
    "# Print performance metrics for Logistic Regression\n",
    "print('Logistic Regression Classifier:')\n",
    "print('Train Accuracy:', accuracy_score(train_target_usampled, logistic_regression_train_pred))\n",
    "print('Test Accuracy:', accuracy_score(under_val_target, logistic_regression_val_pred))\n",
    "print('Confusion Matrix:\\n', confusion_matrix(under_val_target, logistic_regression_val_pred))\n"
   ]
  },
  {
   "cell_type": "code",
   "execution_count": 101,
   "id": "08257a07",
   "metadata": {},
   "outputs": [
    {
     "name": "stdout",
     "output_type": "stream",
     "text": [
      "              precision    recall  f1-score   support\n",
      "\n",
      "    Canceled       0.65      0.76      0.70      1464\n",
      "Not_Canceled       0.86      0.79      0.83      2889\n",
      "\n",
      "    accuracy                           0.78      4353\n",
      "   macro avg       0.76      0.77      0.76      4353\n",
      "weighted avg       0.79      0.78      0.78      4353\n",
      "\n"
     ]
    }
   ],
   "source": [
    "rf_report_us = classification_report(under_val_target, logistic_regression_val_pred)\n",
    "print(rf_report_us)"
   ]
  },
  {
   "cell_type": "code",
   "execution_count": 102,
   "id": "dbdf08c3",
   "metadata": {},
   "outputs": [
    {
     "name": "stdout",
     "output_type": "stream",
     "text": [
      "Unseen Test Data Accuracy: 0.7823691460055097\n"
     ]
    }
   ],
   "source": [
    "# Use the trained model to make predictions on the unseen data\n",
    "unseen_pred = logistic_regression.predict(test_data_scaled)\n",
    "print('Unseen Test Data Accuracy:', accuracy_score(under_test_target, unseen_pred))"
   ]
  },
  {
   "cell_type": "markdown",
   "id": "c063465e",
   "metadata": {},
   "source": [
    "### KNN on Undersampled Data"
   ]
  },
  {
   "cell_type": "code",
   "execution_count": 103,
   "id": "2aa5d228",
   "metadata": {},
   "outputs": [
    {
     "name": "stdout",
     "output_type": "stream",
     "text": [
      "Fitting 5 folds for each of 30 candidates, totalling 150 fits\n",
      "Best Parameters: {'algorithm': 'brute', 'n_neighbors': 11, 'weights': 'distance'}\n"
     ]
    }
   ],
   "source": [
    "from sklearn.neighbors import KNeighborsClassifier\n",
    "from sklearn.model_selection import GridSearchCV\n",
    "\n",
    "# Define the parameter grid\n",
    "param_grid = {\n",
    "    'n_neighbors': [3, 5, 7, 9, 11 ],\n",
    "    'weights': ['uniform', 'distance'],\n",
    "    'algorithm': ['ball_tree', 'kd_tree', 'brute']\n",
    "}\n",
    "\n",
    "# Create a KNN classifier\n",
    "knn = KNeighborsClassifier()\n",
    "\n",
    "# Perform grid search to find the best parameters\n",
    "grid_search = GridSearchCV(estimator=knn, param_grid=param_grid, scoring='accuracy', cv=5, n_jobs=-1, verbose=1)\n",
    "grid_search.fit(train_data_usampled_scaled, train_target_usampled)\n",
    "beu_params = grid_search.best_params_\n",
    "\n",
    "print(\"Best Parameters:\", best_params)"
   ]
  },
  {
   "cell_type": "code",
   "execution_count": 121,
   "id": "6a32b473",
   "metadata": {},
   "outputs": [
    {
     "name": "stdout",
     "output_type": "stream",
     "text": [
      "K-Nearest Neighbors Classifier:\n",
      "Train Accuracy: 0.9926302161139329\n",
      "Validation Accuracy: 0.8458534344130485\n",
      "Confusion Matrix:\n",
      " [[1259  205]\n",
      " [ 466 2423]]\n"
     ]
    }
   ],
   "source": [
    "\n",
    "# Create KNN classifier with best parameters\n",
    "knn_clf = KNeighborsClassifier(**best_params)\n",
    "\n",
    "# Train the KNN classifier\n",
    "knn_clf.fit(train_data_usampled_scaled, train_target_usampled)\n",
    "\n",
    "# Make predictions on the train and test data\n",
    "train_pred = knn_clf.predict(train_data_usampled_scaled)\n",
    "val_pred = knn_clf.predict(val_data_scaled)\n",
    "\n",
    "# Print performance metrics\n",
    "print('K-Nearest Neighbors Classifier:')\n",
    "print('Train Accuracy:', accuracy_score(train_target_usampled, train_pred))\n",
    "print('Validation Accuracy:', accuracy_score(under_val_target, val_pred))\n",
    "print('Confusion Matrix:\\n', confusion_matrix(under_val_target, val_pred))\n"
   ]
  },
  {
   "cell_type": "code",
   "execution_count": 105,
   "id": "0e33bdca",
   "metadata": {},
   "outputs": [
    {
     "name": "stdout",
     "output_type": "stream",
     "text": [
      "              precision    recall  f1-score   support\n",
      "\n",
      "    Canceled       0.73      0.86      0.79      1464\n",
      "Not_Canceled       0.92      0.84      0.88      2889\n",
      "\n",
      "    accuracy                           0.85      4353\n",
      "   macro avg       0.83      0.85      0.83      4353\n",
      "weighted avg       0.86      0.85      0.85      4353\n",
      "\n"
     ]
    }
   ],
   "source": [
    "knn_report_us = classification_report(under_val_target, val_pred)\n",
    "print(knn_report_us)"
   ]
  },
  {
   "cell_type": "code",
   "execution_count": 106,
   "id": "5ff05b0d",
   "metadata": {},
   "outputs": [
    {
     "name": "stdout",
     "output_type": "stream",
     "text": [
      "Unseen Test Data Accuracy: 0.8438934802571166\n"
     ]
    }
   ],
   "source": [
    "# Use the trained model to make predictions on the unseen data\n",
    "unseen_pred = knn_clf.predict(test_data_scaled)\n",
    "print('Unseen Test Data Accuracy:', accuracy_score(under_test_target, unseen_pred))"
   ]
  },
  {
   "cell_type": "markdown",
   "id": "c60d67b8",
   "metadata": {},
   "source": [
    "### Decision Tree CLassifier on Undersampled Data"
   ]
  },
  {
   "cell_type": "code",
   "execution_count": 107,
   "id": "f4148161",
   "metadata": {},
   "outputs": [
    {
     "name": "stdout",
     "output_type": "stream",
     "text": [
      "Fitting 5 folds for each of 72 candidates, totalling 360 fits\n",
      "{'criterion': 'entropy', 'max_depth': 15, 'min_samples_leaf': 1, 'min_samples_split': 2}\n"
     ]
    }
   ],
   "source": [
    "dt_params = {\n",
    "    'criterion': ['gini', 'entropy'],\n",
    "    'max_depth': [None, 5, 10, 15],\n",
    "    'min_samples_split': [2, 5, 10],\n",
    "    'min_samples_leaf': [1, 2, 5]\n",
    "}\n",
    "dt_clf = DecisionTreeClassifier(random_state=42)\n",
    "dt_grid_search = GridSearchCV(dt_clf, dt_params, cv=5, n_jobs=-1, verbose=1)\n",
    "dt_grid_search.fit(train_data_usampled_scaled, train_target_usampled)\n",
    "dt_best_params = dt_grid_search.best_params_\n",
    "print(dt_best_params)"
   ]
  },
  {
   "cell_type": "code",
   "execution_count": 108,
   "id": "9a5dde52",
   "metadata": {},
   "outputs": [
    {
     "name": "stdout",
     "output_type": "stream",
     "text": [
      "Decision Tree Classifier:\n",
      "Train Accuracy: 0.9146001394283438\n",
      "Test Accuracy: 0.853893866299104\n",
      "Confusion Matrix:\n",
      " [[1275  189]\n",
      " [ 447 2442]]\n"
     ]
    }
   ],
   "source": [
    "# Train decision tree classifier with best parameters and measure performance\n",
    "dt_clf = DecisionTreeClassifier(**dt_best_params, random_state=42)\n",
    "dt_clf.fit(train_data_usampled_scaled, train_target_usampled)\n",
    "train_pred = dt_clf.predict(train_data_usampled_scaled)\n",
    "val_pred = dt_clf.predict(val_data_scaled)\n",
    "print('Decision Tree Classifier:')\n",
    "print('Train Accuracy:', accuracy_score(train_target_usampled, train_pred))\n",
    "print('Validation Accuracy:', accuracy_score(under_val_target, val_pred))\n",
    "print('Confusion Matrix:\\n', confusion_matrix(under_val_target, val_pred))"
   ]
  },
  {
   "cell_type": "code",
   "execution_count": 109,
   "id": "468a114f",
   "metadata": {},
   "outputs": [
    {
     "name": "stdout",
     "output_type": "stream",
     "text": [
      "              precision    recall  f1-score   support\n",
      "\n",
      "    Canceled       0.74      0.87      0.80      1464\n",
      "Not_Canceled       0.93      0.85      0.88      2889\n",
      "\n",
      "    accuracy                           0.85      4353\n",
      "   macro avg       0.83      0.86      0.84      4353\n",
      "weighted avg       0.87      0.85      0.86      4353\n",
      "\n"
     ]
    }
   ],
   "source": [
    "rf_report_us = classification_report(under_val_target, val_pred)\n",
    "print(rf_report_us)"
   ]
  },
  {
   "cell_type": "code",
   "execution_count": 110,
   "id": "9cfdf00d",
   "metadata": {},
   "outputs": [
    {
     "name": "stdout",
     "output_type": "stream",
     "text": [
      "Unseen Test Data Accuracy: 0.852157943067034\n"
     ]
    }
   ],
   "source": [
    "# Use the trained model to make predictions on the unseen data\n",
    "unseen_pred = dt_clf.predict(test_data_scaled)\n",
    "print('Unseen Test Data Accuracy:', accuracy_score(under_test_target, unseen_pred))"
   ]
  },
  {
   "cell_type": "markdown",
   "id": "0f880171",
   "metadata": {},
   "source": [
    "### Random Forest Classifier on Undersampled Data"
   ]
  },
  {
   "cell_type": "code",
   "execution_count": 112,
   "id": "42a1f551",
   "metadata": {},
   "outputs": [
    {
     "name": "stdout",
     "output_type": "stream",
     "text": [
      "Fitting 5 folds for each of 216 candidates, totalling 1080 fits\n"
     ]
    }
   ],
   "source": [
    "rf_params = {\n",
    "    'n_estimators': [100, 300, 500],\n",
    "    #n_estimators : This is the number of trees you want to build before taking the maximum voting or averages of predictions. \n",
    "    #Higher number of trees give you better performance but makes your code slower.\n",
    "    'criterion': ['gini', 'entropy'],\n",
    "    'max_depth': [None, 5, 10, 15],\n",
    "    'min_samples_split': [2, 5, 10],\n",
    "    'min_samples_leaf': [1, 2, 5]\n",
    "}\n",
    "rf_clf = RandomForestClassifier(random_state=42)\n",
    "rf_grid_search = GridSearchCV(rf_clf, rf_params, cv=5, n_jobs=-1, verbose=1)\n",
    "rf_grid_search.fit(train_data_usampled_scaled, train_target_usampled)\n",
    "rf_best_params = rf_grid_search.best_params_"
   ]
  },
  {
   "cell_type": "code",
   "execution_count": 113,
   "id": "ae9b52c2",
   "metadata": {},
   "outputs": [
    {
     "name": "stdout",
     "output_type": "stream",
     "text": [
      "Random Forest Classifier:\n",
      "Train Accuracy: 0.9792351359426352\n",
      "Test Accuracy: 0.8934068458534344\n",
      "Confusion Matrix:\n",
      " [[1286  178]\n",
      " [ 286 2603]]\n"
     ]
    }
   ],
   "source": [
    "# Train random forest classifier with best parameters and measure performance\n",
    "rf_clf = RandomForestClassifier(**rf_best_params, random_state=42)\n",
    "rf_clf.fit(train_data_usampled_scaled, train_target_usampled)\n",
    "train_pred = rf_clf.predict(train_data_usampled_scaled)\n",
    "val_pred = rf_clf.predict(val_data_scaled)\n",
    "print('Random Forest Classifier:')\n",
    "print('Train Accuracy:', accuracy_score(train_target_usampled, train_pred))\n",
    "print('Validation Accuracy:', accuracy_score(under_val_target, val_pred))\n",
    "print('Confusion Matrix:\\n', confusion_matrix(under_val_target, val_pred))"
   ]
  },
  {
   "cell_type": "code",
   "execution_count": 114,
   "id": "86c3181c",
   "metadata": {},
   "outputs": [
    {
     "name": "stdout",
     "output_type": "stream",
     "text": [
      "              precision    recall  f1-score   support\n",
      "\n",
      "    Canceled       0.82      0.88      0.85      1464\n",
      "Not_Canceled       0.94      0.90      0.92      2889\n",
      "\n",
      "    accuracy                           0.89      4353\n",
      "   macro avg       0.88      0.89      0.88      4353\n",
      "weighted avg       0.90      0.89      0.89      4353\n",
      "\n"
     ]
    }
   ],
   "source": [
    "rf_report_us = classification_report(under_val_target, val_pred)\n",
    "print(rf_report_us)"
   ]
  },
  {
   "cell_type": "code",
   "execution_count": 115,
   "id": "7189942a",
   "metadata": {},
   "outputs": [
    {
     "name": "stdout",
     "output_type": "stream",
     "text": [
      "Unseen Test Data Accuracy: 0.8925619834710744\n"
     ]
    }
   ],
   "source": [
    "# Use the trained model to make predictions on the unseen data\n",
    "unseen_pred = rf_clf.predict(test_data_scaled)\n",
    "print('Unseen Test Data Accuracy:', accuracy_score(under_test_target, unseen_pred))"
   ]
  },
  {
   "cell_type": "code",
   "execution_count": 116,
   "id": "5cbb3cc6",
   "metadata": {},
   "outputs": [
    {
     "data": {
      "image/png": "[encoded data removed]",
      "text/plain": [
       "<Figure size 640x480 with 1 Axes>"
      ]
     },
     "metadata": {},
     "output_type": "display_data"
    }
   ],
   "source": [
    "# Plot feature importances for the random forest classifier\n",
    "feat_importances = pd.Series(rf_clf.feature_importances_, index=data_encoded.columns[:-1])\n",
    "feat_importances.nlargest(10).plot(kind='barh')\n",
    "plt.title('Feature Importances')\n",
    "plt.show()"
   ]
  },
  {
   "cell_type": "code",
   "execution_count": 117,
   "id": "cd418a2f",
   "metadata": {},
   "outputs": [
    {
     "data": {
      "text/html": [
       "<div>\n",
       "<style scoped>\n",
       "    .dataframe tbody tr th:only-of-type {\n",
       "        vertical-align: middle;\n",
       "    }\n",
       "\n",
       "    .dataframe tbody tr th {\n",
       "        vertical-align: top;\n",
       "    }\n",
       "\n",
       "    .dataframe thead th {\n",
       "        text-align: right;\n",
       "    }\n",
       "</style>\n",
       "<table border=\"1\" class=\"dataframe\">\n",
       "  <thead>\n",
       "    <tr style=\"text-align: right;\">\n",
       "      <th></th>\n",
       "      <th>Training Accuracy (UnderSampled)</th>\n",
       "      <th>Validation Accuracy (UnderSampled)</th>\n",
       "      <th>Testing Accuracy (UnderSampled)</th>\n",
       "    </tr>\n",
       "  </thead>\n",
       "  <tbody>\n",
       "    <tr>\n",
       "      <th>Logistic Regression</th>\n",
       "      <td>77.79</td>\n",
       "      <td>77.92</td>\n",
       "      <td>78.23</td>\n",
       "    </tr>\n",
       "    <tr>\n",
       "      <th>K-Nearest Neighbours</th>\n",
       "      <td>99.26</td>\n",
       "      <td>84.58</td>\n",
       "      <td>84.38</td>\n",
       "    </tr>\n",
       "    <tr>\n",
       "      <th>Decision Tree</th>\n",
       "      <td>91.46</td>\n",
       "      <td>85.38</td>\n",
       "      <td>85.21</td>\n",
       "    </tr>\n",
       "    <tr>\n",
       "      <th>Random Forest</th>\n",
       "      <td>97.92</td>\n",
       "      <td>89.34</td>\n",
       "      <td>89.25</td>\n",
       "    </tr>\n",
       "  </tbody>\n",
       "</table>\n",
       "</div>"
      ],
      "text/plain": [
       "                      Training Accuracy (UnderSampled)  \\\n",
       "Logistic Regression                              77.79   \n",
       "K-Nearest Neighbours                             99.26   \n",
       "Decision Tree                                    91.46   \n",
       "Random Forest                                    97.92   \n",
       "\n",
       "                      Validation Accuracy (UnderSampled)  \\\n",
       "Logistic Regression                                77.92   \n",
       "K-Nearest Neighbours                               84.58   \n",
       "Decision Tree                                      85.38   \n",
       "Random Forest                                      89.34   \n",
       "\n",
       "                      Testing Accuracy (UnderSampled)  \n",
       "Logistic Regression                             78.23  \n",
       "K-Nearest Neighbours                            84.38  \n",
       "Decision Tree                                   85.21  \n",
       "Random Forest                                   89.25  "
      ]
     },
     "execution_count": 117,
     "metadata": {},
     "output_type": "execute_result"
    }
   ],
   "source": [
    "undersampled_results = {'Logistic Regression': {'Training Accuracy (UnderSampled)': 77.79, 'Validation Accuracy (UnderSampled)': 77.92, 'Testing Accuracy (UnderSampled)': 78.23},\n",
    "            'K-Nearest Neighbours': {'Training Accuracy (UnderSampled)': 99.26, 'Validation Accuracy (UnderSampled)':84.58 ,'Testing Accuracy (UnderSampled)': 84.38},\n",
    "            'Decision Tree': {'Training Accuracy (UnderSampled)': 91.46,'Validation Accuracy (UnderSampled)':85.38 , 'Testing Accuracy (UnderSampled)': 85.21},\n",
    "            'Random Forest': {'Training Accuracy (UnderSampled)': 97.92 ,'Validation Accuracy (UnderSampled)':89.34 , 'Testing Accuracy (UnderSampled)': 89.25}}\n",
    "\n",
    "US_Data_Results = pd.DataFrame(undersampled_results).transpose()\n",
    "US_Data_Results"
   ]
  },
  {
   "cell_type": "code",
   "execution_count": 120,
   "id": "6990181c",
   "metadata": {},
   "outputs": [
    {
     "data": {
      "text/html": [
       "<div>\n",
       "<style scoped>\n",
       "    .dataframe tbody tr th:only-of-type {\n",
       "        vertical-align: middle;\n",
       "    }\n",
       "\n",
       "    .dataframe tbody tr th {\n",
       "        vertical-align: top;\n",
       "    }\n",
       "\n",
       "    .dataframe thead th {\n",
       "        text-align: right;\n",
       "    }\n",
       "</style>\n",
       "<table border=\"1\" class=\"dataframe\">\n",
       "  <thead>\n",
       "    <tr style=\"text-align: right;\">\n",
       "      <th></th>\n",
       "      <th>Training Accuracy (OverSampled)</th>\n",
       "      <th>Validation Accuracy (OverSampled)</th>\n",
       "      <th>Testing Accuracy (OverSampled)</th>\n",
       "    </tr>\n",
       "  </thead>\n",
       "  <tbody>\n",
       "    <tr>\n",
       "      <th>Logistic Regression</th>\n",
       "      <td>79.30</td>\n",
       "      <td>78.15</td>\n",
       "      <td>77.68</td>\n",
       "    </tr>\n",
       "    <tr>\n",
       "      <th>K-Nearest Neighbours</th>\n",
       "      <td>99.38</td>\n",
       "      <td>86.72</td>\n",
       "      <td>87.87</td>\n",
       "    </tr>\n",
       "    <tr>\n",
       "      <th>Decision Tree</th>\n",
       "      <td>99.46</td>\n",
       "      <td>87.08</td>\n",
       "      <td>88.33</td>\n",
       "    </tr>\n",
       "    <tr>\n",
       "      <th>Random Forest</th>\n",
       "      <td>99.46</td>\n",
       "      <td>90.55</td>\n",
       "      <td>89.99</td>\n",
       "    </tr>\n",
       "  </tbody>\n",
       "</table>\n",
       "</div>"
      ],
      "text/plain": [
       "                      Training Accuracy (OverSampled)  \\\n",
       "Logistic Regression                             79.30   \n",
       "K-Nearest Neighbours                            99.38   \n",
       "Decision Tree                                   99.46   \n",
       "Random Forest                                   99.46   \n",
       "\n",
       "                      Validation Accuracy (OverSampled)  \\\n",
       "Logistic Regression                               78.15   \n",
       "K-Nearest Neighbours                              86.72   \n",
       "Decision Tree                                     87.08   \n",
       "Random Forest                                     90.55   \n",
       "\n",
       "                      Testing Accuracy (OverSampled)  \n",
       "Logistic Regression                            77.68  \n",
       "K-Nearest Neighbours                           87.87  \n",
       "Decision Tree                                  88.33  \n",
       "Random Forest                                  89.99  "
      ]
     },
     "execution_count": 120,
     "metadata": {},
     "output_type": "execute_result"
    }
   ],
   "source": [
    "oversampled_results = {'Logistic Regression': {'Training Accuracy (OverSampled)': 79.30,'Validation Accuracy (OverSampled)': 78.15, 'Testing Accuracy (OverSampled)':77.68},\n",
    "            'K-Nearest Neighbours': {'Training Accuracy (OverSampled)': 99.38,'Validation Accuracy (OverSampled)': 86.72, 'Testing Accuracy (OverSampled)': 87.87},\n",
    "            'Decision Tree': {'Training Accuracy (OverSampled)': 99.46,'Validation Accuracy (OverSampled)': 87.08, 'Testing Accuracy (OverSampled)': 88.33},\n",
    "            'Random Forest': {'Training Accuracy (OverSampled)': 99.46 ,'Validation Accuracy (OverSampled)': 90.55, 'Testing Accuracy (OverSampled)': 89.99}}\n",
    "\n",
    "OS_Data_Results = pd.DataFrame(oversampled_results).transpose()\n",
    "OS_Data_Results"
   ]
  },
  {
   "cell_type": "markdown",
   "id": "58beb8da",
   "metadata": {},
   "source": [
    "On comparing the performances of various machine learning algorithms on oversampled and undersampled data, it is observed that Random Forest has perfromed the best in the cases. But Random Forest on Oversampled data has given the training accuracy of 99.46% and Validation accuracy of  90.46% and Testing Accuracy is 89.80%."
   ]
  },
  {
   "cell_type": "markdown",
   "id": "672a6435",
   "metadata": {},
   "source": [
    "## Performance Metrics\n",
    "\n",
    "A confusion matrix is a table that is used to summarize the performance of a classification model. The confusion matrix shows the number of true positives, false positives, true negatives, and false negatives.\n",
    "\n",
    "Here is an example of a confusion matrix:<br>\n",
    "\n",
    "<img src=\"images/confusion_matrix.jpg\" />\n",
    "\n",
    "The confusion matrix is divided into four quadrants:\n",
    "\n",
    "True positives (TP): These are the instances that were correctly classified as positive.\n",
    "\n",
    "False positives (FP): These are the instances that were incorrectly classified as positive.\n",
    "\n",
    "True negatives (TN): These are the instances that were correctly classified as negative.\n",
    "\n",
    "False negatives (FN): These are the instances that were incorrectly classified as negative.\n",
    "\n",
    "The confusion matrix can be used to evaluate the performance of a classification model. The model can be improved by reducing the number of false positives and false negatives.\n",
    "\n",
    "Here are some of the metrics that can be calculated from the confusion matrix:\n",
    "\n",
    "**Accuracy:** Accuracy is the fraction of all instances that were correctly classified.\n",
    "\n",
    "Precision: Precision is the fraction of positive instances that were correctly classified.\n",
    "\n",
    "Recall: Recall is the fraction of all positive instances that were correctly classified.\n",
    "\n",
    "F1 score: The F1 score is a weighted average of precision and recall."
   ]
  },
  {
   "cell_type": "markdown",
   "id": "1309341d",
   "metadata": {},
   "source": [
    "1) https://towardsdatascience.com/understanding-confusion-matrix-a9ad42dcfd62<br><br>\n",
    "\n",
    "2) https://scikit-learn.org/stable/modules/generated/sklearn.metrics.confusion_matrix.html<br><br>\n",
    "\n",
    "3) https://ieeexplore.ieee.org/document/9725404<br><br>\n",
    "\n",
    "\n"
   ]
  },
  {
   "cell_type": "markdown",
   "id": "980dba2c",
   "metadata": {},
   "source": [
    "# THE END"
   ]
  },
  {
   "cell_type": "code",
   "execution_count": null,
   "id": "c01ed4dd",
   "metadata": {},
   "outputs": [],
   "source": []
  }
 ],
 "metadata": {
  "kernelspec": {
   "display_name": "Python 3 (ipykernel)",
   "language": "python",
   "name": "python3"
  },
  "language_info": {
   "codemirror_mode": {
    "name": "ipython",
    "version": 3
   },
   "file_extension": ".py",
   "mimetype": "text/x-python",
   "name": "python",
   "nbconvert_exporter": "python",
   "pygments_lexer": "ipython3",
   "version": "3.10.9"
  }
 },
 "nbformat": 4,
 "nbformat_minor": 5
}
